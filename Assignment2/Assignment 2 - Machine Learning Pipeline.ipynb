{
 "cells": [
  {
   "cell_type": "markdown",
   "metadata": {},
   "source": [
    "# Assignment 2 - Machine Learning Pipeline"
   ]
  },
  {
   "cell_type": "code",
   "execution_count": 144,
   "metadata": {},
   "outputs": [],
   "source": [
    "import numpy as np\n",
    "import pandas as pd\n",
    "import os\n",
    "\n",
    "import matplotlib.pyplot as plt\n",
    "import seaborn as sns\n",
    "%matplotlib inline\n",
    "\n",
    "import sklearn.metrics as metrics\n",
    "import sklearn.tree as tree\n",
    "from sklearn.tree import DecisionTreeClassifier\n",
    "from sklearn.neighbors import KNeighborsClassifier\n",
    "from sklearn.cross_validation import train_test_split"
   ]
  },
  {
   "cell_type": "code",
   "execution_count": 145,
   "metadata": {},
   "outputs": [
    {
     "name": "stdout",
     "output_type": "stream",
     "text": [
      "The autoreload extension is already loaded. To reload it, use:\n",
      "  %reload_ext autoreload\n"
     ]
    }
   ],
   "source": [
    "# Autoreload file containing \n",
    "%load_ext autoreload\n",
    "%autoreload 2\n",
    "import data_processing"
   ]
  },
  {
   "cell_type": "markdown",
   "metadata": {},
   "source": [
    "## Load Data"
   ]
  },
  {
   "cell_type": "code",
   "execution_count": 146,
   "metadata": {
    "collapsed": true
   },
   "outputs": [],
   "source": [
    "df = data_processing.load_data('data/credit-data.csv', 'PersonID')"
   ]
  },
  {
   "cell_type": "markdown",
   "metadata": {},
   "source": [
    "## Data Exploration"
   ]
  },
  {
   "cell_type": "code",
   "execution_count": 147,
   "metadata": {},
   "outputs": [
    {
     "data": {
      "text/html": [
       "<div>\n",
       "<style scoped>\n",
       "    .dataframe tbody tr th:only-of-type {\n",
       "        vertical-align: middle;\n",
       "    }\n",
       "\n",
       "    .dataframe tbody tr th {\n",
       "        vertical-align: top;\n",
       "    }\n",
       "\n",
       "    .dataframe thead th {\n",
       "        text-align: right;\n",
       "    }\n",
       "</style>\n",
       "<table border=\"1\" class=\"dataframe\">\n",
       "  <thead>\n",
       "    <tr style=\"text-align: right;\">\n",
       "      <th></th>\n",
       "      <th>PersonID</th>\n",
       "      <th>SeriousDlqin2yrs</th>\n",
       "      <th>RevolvingUtilizationOfUnsecuredLines</th>\n",
       "      <th>age</th>\n",
       "      <th>zipcode</th>\n",
       "      <th>NumberOfTime30-59DaysPastDueNotWorse</th>\n",
       "      <th>DebtRatio</th>\n",
       "      <th>MonthlyIncome</th>\n",
       "      <th>NumberOfOpenCreditLinesAndLoans</th>\n",
       "      <th>NumberOfTimes90DaysLate</th>\n",
       "      <th>NumberRealEstateLoansOrLines</th>\n",
       "      <th>NumberOfTime60-89DaysPastDueNotWorse</th>\n",
       "      <th>NumberOfDependents</th>\n",
       "    </tr>\n",
       "  </thead>\n",
       "  <tbody>\n",
       "    <tr>\n",
       "      <th>0</th>\n",
       "      <td>98976</td>\n",
       "      <td>0</td>\n",
       "      <td>1.000000</td>\n",
       "      <td>55</td>\n",
       "      <td>60601</td>\n",
       "      <td>0</td>\n",
       "      <td>505.000000</td>\n",
       "      <td>0.0</td>\n",
       "      <td>2</td>\n",
       "      <td>0</td>\n",
       "      <td>0</td>\n",
       "      <td>0</td>\n",
       "      <td>0.0</td>\n",
       "    </tr>\n",
       "    <tr>\n",
       "      <th>1</th>\n",
       "      <td>98991</td>\n",
       "      <td>0</td>\n",
       "      <td>0.547745</td>\n",
       "      <td>71</td>\n",
       "      <td>60601</td>\n",
       "      <td>0</td>\n",
       "      <td>0.459565</td>\n",
       "      <td>15666.0</td>\n",
       "      <td>7</td>\n",
       "      <td>0</td>\n",
       "      <td>2</td>\n",
       "      <td>0</td>\n",
       "      <td>0.0</td>\n",
       "    </tr>\n",
       "    <tr>\n",
       "      <th>2</th>\n",
       "      <td>99012</td>\n",
       "      <td>0</td>\n",
       "      <td>0.044280</td>\n",
       "      <td>51</td>\n",
       "      <td>60601</td>\n",
       "      <td>0</td>\n",
       "      <td>0.014520</td>\n",
       "      <td>4200.0</td>\n",
       "      <td>5</td>\n",
       "      <td>0</td>\n",
       "      <td>0</td>\n",
       "      <td>0</td>\n",
       "      <td>0.0</td>\n",
       "    </tr>\n",
       "    <tr>\n",
       "      <th>3</th>\n",
       "      <td>99023</td>\n",
       "      <td>0</td>\n",
       "      <td>0.914249</td>\n",
       "      <td>55</td>\n",
       "      <td>60601</td>\n",
       "      <td>4</td>\n",
       "      <td>0.794875</td>\n",
       "      <td>9052.0</td>\n",
       "      <td>12</td>\n",
       "      <td>0</td>\n",
       "      <td>3</td>\n",
       "      <td>0</td>\n",
       "      <td>0.0</td>\n",
       "    </tr>\n",
       "    <tr>\n",
       "      <th>4</th>\n",
       "      <td>99027</td>\n",
       "      <td>0</td>\n",
       "      <td>0.026599</td>\n",
       "      <td>45</td>\n",
       "      <td>60601</td>\n",
       "      <td>0</td>\n",
       "      <td>0.049966</td>\n",
       "      <td>10406.0</td>\n",
       "      <td>4</td>\n",
       "      <td>0</td>\n",
       "      <td>0</td>\n",
       "      <td>0</td>\n",
       "      <td>2.0</td>\n",
       "    </tr>\n",
       "  </tbody>\n",
       "</table>\n",
       "</div>"
      ],
      "text/plain": [
       "   PersonID  SeriousDlqin2yrs  RevolvingUtilizationOfUnsecuredLines  age  \\\n",
       "0     98976                 0                              1.000000   55   \n",
       "1     98991                 0                              0.547745   71   \n",
       "2     99012                 0                              0.044280   51   \n",
       "3     99023                 0                              0.914249   55   \n",
       "4     99027                 0                              0.026599   45   \n",
       "\n",
       "   zipcode  NumberOfTime30-59DaysPastDueNotWorse   DebtRatio  MonthlyIncome  \\\n",
       "0    60601                                     0  505.000000            0.0   \n",
       "1    60601                                     0    0.459565        15666.0   \n",
       "2    60601                                     0    0.014520         4200.0   \n",
       "3    60601                                     4    0.794875         9052.0   \n",
       "4    60601                                     0    0.049966        10406.0   \n",
       "\n",
       "   NumberOfOpenCreditLinesAndLoans  NumberOfTimes90DaysLate  \\\n",
       "0                                2                        0   \n",
       "1                                7                        0   \n",
       "2                                5                        0   \n",
       "3                               12                        0   \n",
       "4                                4                        0   \n",
       "\n",
       "   NumberRealEstateLoansOrLines  NumberOfTime60-89DaysPastDueNotWorse  \\\n",
       "0                             0                                     0   \n",
       "1                             2                                     0   \n",
       "2                             0                                     0   \n",
       "3                             3                                     0   \n",
       "4                             0                                     0   \n",
       "\n",
       "   NumberOfDependents  \n",
       "0                 0.0  \n",
       "1                 0.0  \n",
       "2                 0.0  \n",
       "3                 0.0  \n",
       "4                 2.0  "
      ]
     },
     "execution_count": 147,
     "metadata": {},
     "output_type": "execute_result"
    }
   ],
   "source": [
    "df.head()"
   ]
  },
  {
   "cell_type": "code",
   "execution_count": 148,
   "metadata": {},
   "outputs": [
    {
     "data": {
      "text/html": [
       "<div>\n",
       "<style scoped>\n",
       "    .dataframe tbody tr th:only-of-type {\n",
       "        vertical-align: middle;\n",
       "    }\n",
       "\n",
       "    .dataframe tbody tr th {\n",
       "        vertical-align: top;\n",
       "    }\n",
       "\n",
       "    .dataframe thead th {\n",
       "        text-align: right;\n",
       "    }\n",
       "</style>\n",
       "<table border=\"1\" class=\"dataframe\">\n",
       "  <thead>\n",
       "    <tr style=\"text-align: right;\">\n",
       "      <th></th>\n",
       "      <th>PersonID</th>\n",
       "      <th>SeriousDlqin2yrs</th>\n",
       "      <th>RevolvingUtilizationOfUnsecuredLines</th>\n",
       "      <th>age</th>\n",
       "      <th>zipcode</th>\n",
       "      <th>NumberOfTime30-59DaysPastDueNotWorse</th>\n",
       "      <th>DebtRatio</th>\n",
       "      <th>MonthlyIncome</th>\n",
       "      <th>NumberOfOpenCreditLinesAndLoans</th>\n",
       "      <th>NumberOfTimes90DaysLate</th>\n",
       "      <th>NumberRealEstateLoansOrLines</th>\n",
       "      <th>NumberOfTime60-89DaysPastDueNotWorse</th>\n",
       "      <th>NumberOfDependents</th>\n",
       "    </tr>\n",
       "  </thead>\n",
       "  <tbody>\n",
       "    <tr>\n",
       "      <th>count</th>\n",
       "      <td>41016.000000</td>\n",
       "      <td>41016.000000</td>\n",
       "      <td>41016.00000</td>\n",
       "      <td>41016.000000</td>\n",
       "      <td>41016.000000</td>\n",
       "      <td>41016.000000</td>\n",
       "      <td>41016.000000</td>\n",
       "      <td>3.304200e+04</td>\n",
       "      <td>41016.000000</td>\n",
       "      <td>41016.000000</td>\n",
       "      <td>41016.000000</td>\n",
       "      <td>41016.000000</td>\n",
       "      <td>39979.000000</td>\n",
       "    </tr>\n",
       "    <tr>\n",
       "      <th>mean</th>\n",
       "      <td>115800.154598</td>\n",
       "      <td>0.161400</td>\n",
       "      <td>6.37587</td>\n",
       "      <td>51.683489</td>\n",
       "      <td>60623.824166</td>\n",
       "      <td>0.589233</td>\n",
       "      <td>331.458137</td>\n",
       "      <td>6.578996e+03</td>\n",
       "      <td>8.403477</td>\n",
       "      <td>0.419592</td>\n",
       "      <td>1.008801</td>\n",
       "      <td>0.371587</td>\n",
       "      <td>0.773231</td>\n",
       "    </tr>\n",
       "    <tr>\n",
       "      <th>std</th>\n",
       "      <td>28112.723511</td>\n",
       "      <td>0.367904</td>\n",
       "      <td>221.61895</td>\n",
       "      <td>14.746880</td>\n",
       "      <td>11.984357</td>\n",
       "      <td>5.205628</td>\n",
       "      <td>1296.109695</td>\n",
       "      <td>1.344683e+04</td>\n",
       "      <td>5.207324</td>\n",
       "      <td>5.190382</td>\n",
       "      <td>1.153826</td>\n",
       "      <td>5.169641</td>\n",
       "      <td>1.121269</td>\n",
       "    </tr>\n",
       "    <tr>\n",
       "      <th>min</th>\n",
       "      <td>22.000000</td>\n",
       "      <td>0.000000</td>\n",
       "      <td>0.00000</td>\n",
       "      <td>21.000000</td>\n",
       "      <td>60601.000000</td>\n",
       "      <td>0.000000</td>\n",
       "      <td>0.000000</td>\n",
       "      <td>0.000000e+00</td>\n",
       "      <td>0.000000</td>\n",
       "      <td>0.000000</td>\n",
       "      <td>0.000000</td>\n",
       "      <td>0.000000</td>\n",
       "      <td>0.000000</td>\n",
       "    </tr>\n",
       "    <tr>\n",
       "      <th>25%</th>\n",
       "      <td>106539.750000</td>\n",
       "      <td>0.000000</td>\n",
       "      <td>0.03431</td>\n",
       "      <td>41.000000</td>\n",
       "      <td>60618.000000</td>\n",
       "      <td>0.000000</td>\n",
       "      <td>0.176375</td>\n",
       "      <td>3.333000e+03</td>\n",
       "      <td>5.000000</td>\n",
       "      <td>0.000000</td>\n",
       "      <td>0.000000</td>\n",
       "      <td>0.000000</td>\n",
       "      <td>0.000000</td>\n",
       "    </tr>\n",
       "    <tr>\n",
       "      <th>50%</th>\n",
       "      <td>119901.500000</td>\n",
       "      <td>0.000000</td>\n",
       "      <td>0.18973</td>\n",
       "      <td>51.000000</td>\n",
       "      <td>60625.000000</td>\n",
       "      <td>0.000000</td>\n",
       "      <td>0.369736</td>\n",
       "      <td>5.250000e+03</td>\n",
       "      <td>8.000000</td>\n",
       "      <td>0.000000</td>\n",
       "      <td>1.000000</td>\n",
       "      <td>0.000000</td>\n",
       "      <td>0.000000</td>\n",
       "    </tr>\n",
       "    <tr>\n",
       "      <th>75%</th>\n",
       "      <td>134698.250000</td>\n",
       "      <td>0.000000</td>\n",
       "      <td>0.66716</td>\n",
       "      <td>62.000000</td>\n",
       "      <td>60629.000000</td>\n",
       "      <td>0.000000</td>\n",
       "      <td>0.866471</td>\n",
       "      <td>8.055750e+03</td>\n",
       "      <td>11.000000</td>\n",
       "      <td>0.000000</td>\n",
       "      <td>2.000000</td>\n",
       "      <td>0.000000</td>\n",
       "      <td>1.000000</td>\n",
       "    </tr>\n",
       "    <tr>\n",
       "      <th>max</th>\n",
       "      <td>149999.000000</td>\n",
       "      <td>1.000000</td>\n",
       "      <td>22000.00000</td>\n",
       "      <td>109.000000</td>\n",
       "      <td>60644.000000</td>\n",
       "      <td>98.000000</td>\n",
       "      <td>106885.000000</td>\n",
       "      <td>1.794060e+06</td>\n",
       "      <td>56.000000</td>\n",
       "      <td>98.000000</td>\n",
       "      <td>32.000000</td>\n",
       "      <td>98.000000</td>\n",
       "      <td>13.000000</td>\n",
       "    </tr>\n",
       "  </tbody>\n",
       "</table>\n",
       "</div>"
      ],
      "text/plain": [
       "            PersonID  SeriousDlqin2yrs  RevolvingUtilizationOfUnsecuredLines  \\\n",
       "count   41016.000000      41016.000000                           41016.00000   \n",
       "mean   115800.154598          0.161400                               6.37587   \n",
       "std     28112.723511          0.367904                             221.61895   \n",
       "min        22.000000          0.000000                               0.00000   \n",
       "25%    106539.750000          0.000000                               0.03431   \n",
       "50%    119901.500000          0.000000                               0.18973   \n",
       "75%    134698.250000          0.000000                               0.66716   \n",
       "max    149999.000000          1.000000                           22000.00000   \n",
       "\n",
       "                age       zipcode  NumberOfTime30-59DaysPastDueNotWorse  \\\n",
       "count  41016.000000  41016.000000                          41016.000000   \n",
       "mean      51.683489  60623.824166                              0.589233   \n",
       "std       14.746880     11.984357                              5.205628   \n",
       "min       21.000000  60601.000000                              0.000000   \n",
       "25%       41.000000  60618.000000                              0.000000   \n",
       "50%       51.000000  60625.000000                              0.000000   \n",
       "75%       62.000000  60629.000000                              0.000000   \n",
       "max      109.000000  60644.000000                             98.000000   \n",
       "\n",
       "           DebtRatio  MonthlyIncome  NumberOfOpenCreditLinesAndLoans  \\\n",
       "count   41016.000000   3.304200e+04                     41016.000000   \n",
       "mean      331.458137   6.578996e+03                         8.403477   \n",
       "std      1296.109695   1.344683e+04                         5.207324   \n",
       "min         0.000000   0.000000e+00                         0.000000   \n",
       "25%         0.176375   3.333000e+03                         5.000000   \n",
       "50%         0.369736   5.250000e+03                         8.000000   \n",
       "75%         0.866471   8.055750e+03                        11.000000   \n",
       "max    106885.000000   1.794060e+06                        56.000000   \n",
       "\n",
       "       NumberOfTimes90DaysLate  NumberRealEstateLoansOrLines  \\\n",
       "count             41016.000000                  41016.000000   \n",
       "mean                  0.419592                      1.008801   \n",
       "std                   5.190382                      1.153826   \n",
       "min                   0.000000                      0.000000   \n",
       "25%                   0.000000                      0.000000   \n",
       "50%                   0.000000                      1.000000   \n",
       "75%                   0.000000                      2.000000   \n",
       "max                  98.000000                     32.000000   \n",
       "\n",
       "       NumberOfTime60-89DaysPastDueNotWorse  NumberOfDependents  \n",
       "count                          41016.000000        39979.000000  \n",
       "mean                               0.371587            0.773231  \n",
       "std                                5.169641            1.121269  \n",
       "min                                0.000000            0.000000  \n",
       "25%                                0.000000            0.000000  \n",
       "50%                                0.000000            0.000000  \n",
       "75%                                0.000000            1.000000  \n",
       "max                               98.000000           13.000000  "
      ]
     },
     "execution_count": 148,
     "metadata": {},
     "output_type": "execute_result"
    }
   ],
   "source": [
    "df.describe() "
   ]
  },
  {
   "cell_type": "markdown",
   "metadata": {},
   "source": [
    "### Commentary\n",
    "According to the \"Give Me Some Credit\" discussion boards, values of 96, 97, and 98 mean that respondents refused to say or responded \"other\". For the purposes of this analysis, I will exclude records with those valuues in the Number of Times Late columns.\n",
    "\n",
    "https://www.kaggle.com/c/GiveMeSomeCredit/discussion/867"
   ]
  },
  {
   "cell_type": "code",
   "execution_count": 149,
   "metadata": {
    "collapsed": true
   },
   "outputs": [],
   "source": [
    "# Filter out all values greater than or equal to 96 in the late payment fields\n",
    "df = df[~((df['NumberOfTimes90DaysLate']>=96) | (df['NumberOfTime60-89DaysPastDueNotWorse']>=96) \n",
    "          | (df['NumberOfTime30-59DaysPastDueNotWorse']>=96))]"
   ]
  },
  {
   "cell_type": "code",
   "execution_count": 150,
   "metadata": {
    "collapsed": true
   },
   "outputs": [],
   "source": [
    "# Define continuous vs categorical variables\n",
    "continuous_cols = ['RevolvingUtilizationOfUnsecuredLines','age', \n",
    "                   'DebtRatio','MonthlyIncome']\n",
    "\n",
    "discrete_cols = ['SeriousDlqin2yrs', 'NumberOfTime30-59DaysPastDueNotWorse',\n",
    "                    'NumberOfOpenCreditLinesAndLoans','NumberOfTimes90DaysLate', \n",
    "                    'NumberRealEstateLoansOrLines',\n",
    "                    'NumberOfTime60-89DaysPastDueNotWorse', 'NumberOfDependents']"
   ]
  },
  {
   "cell_type": "code",
   "execution_count": 151,
   "metadata": {},
   "outputs": [
    {
     "name": "stderr",
     "output_type": "stream",
     "text": [
      "/usr/local/lib/python3.6/site-packages/matplotlib/axes/_axes.py:6462: UserWarning: The 'normed' kwarg is deprecated, and has been replaced by the 'density' kwarg.\n",
      "  warnings.warn(\"The 'normed' kwarg is deprecated, and has been \"\n"
     ]
    },
    {
     "data": {
      "image/png": "[encoded data removed]",
      "text/plain": [
       "<Figure size 432x288 with 1 Axes>"
      ]
     },
     "metadata": {},
     "output_type": "display_data"
    },
    {
     "name": "stdout",
     "output_type": "stream",
     "text": [
      "None\n"
     ]
    },
    {
     "data": {
      "image/png": "[encoded data removed]",
      "text/plain": [
       "<Figure size 432x288 with 1 Axes>"
      ]
     },
     "metadata": {},
     "output_type": "display_data"
    },
    {
     "name": "stdout",
     "output_type": "stream",
     "text": [
      "None\n"
     ]
    },
    {
     "data": {
      "image/png": "[encoded data removed]",
      "text/plain": [
       "<Figure size 432x288 with 1 Axes>"
      ]
     },
     "metadata": {},
     "output_type": "display_data"
    },
    {
     "name": "stdout",
     "output_type": "stream",
     "text": [
      "None\n"
     ]
    },
    {
     "data": {
      "image/png": "[encoded data removed]",
      "text/plain": [
       "<Figure size 432x288 with 1 Axes>"
      ]
     },
     "metadata": {},
     "output_type": "display_data"
    },
    {
     "name": "stdout",
     "output_type": "stream",
     "text": [
      "None\n"
     ]
    }
   ],
   "source": [
    "# Create histograms for continuous variables\n",
    "for col in continuous_cols:\n",
    "    print(data_processing.make_histogram(df, col))"
   ]
  },
  {
   "cell_type": "code",
   "execution_count": 152,
   "metadata": {},
   "outputs": [
    {
     "data": {
      "image/png": "[encoded data removed]",
      "text/plain": [
       "<Figure size 432x288 with 1 Axes>"
      ]
     },
     "metadata": {},
     "output_type": "display_data"
    },
    {
     "name": "stdout",
     "output_type": "stream",
     "text": [
      "None\n"
     ]
    },
    {
     "data": {
      "image/png": "[encoded data removed]",
      "text/plain": [
       "<Figure size 432x288 with 1 Axes>"
      ]
     },
     "metadata": {},
     "output_type": "display_data"
    },
    {
     "name": "stdout",
     "output_type": "stream",
     "text": [
      "None\n"
     ]
    },
    {
     "data": {
      "image/png": "[encoded data removed]",
      "text/plain": [
       "<Figure size 432x288 with 1 Axes>"
      ]
     },
     "metadata": {},
     "output_type": "display_data"
    },
    {
     "name": "stdout",
     "output_type": "stream",
     "text": [
      "None\n"
     ]
    },
    {
     "data": {
      "image/png": "[encoded data removed]",
      "text/plain": [
       "<Figure size 432x288 with 1 Axes>"
      ]
     },
     "metadata": {},
     "output_type": "display_data"
    },
    {
     "name": "stdout",
     "output_type": "stream",
     "text": [
      "None\n"
     ]
    },
    {
     "data": {
      "image/png": "[encoded data removed]",
      "text/plain": [
       "<Figure size 432x288 with 1 Axes>"
      ]
     },
     "metadata": {},
     "output_type": "display_data"
    },
    {
     "name": "stdout",
     "output_type": "stream",
     "text": [
      "None\n"
     ]
    },
    {
     "data": {
      "image/png": "[encoded data removed]",
      "text/plain": [
       "<Figure size 432x288 with 1 Axes>"
      ]
     },
     "metadata": {},
     "output_type": "display_data"
    },
    {
     "name": "stdout",
     "output_type": "stream",
     "text": [
      "None\n"
     ]
    },
    {
     "data": {
      "image/png": "[encoded data removed]",
      "text/plain": [
       "<Figure size 432x288 with 1 Axes>"
      ]
     },
     "metadata": {},
     "output_type": "display_data"
    },
    {
     "name": "stdout",
     "output_type": "stream",
     "text": [
      "None\n"
     ]
    }
   ],
   "source": [
    "# Create countcharts for discrete variables\n",
    "for col in discrete_cols:\n",
    "    print(data_processing.make_countchart(df, col))"
   ]
  },
  {
   "cell_type": "markdown",
   "metadata": {},
   "source": [
    "### Commentary here\n",
    "The financial variables are all characterized by a cluster around 0 but an extremely long tail. Those in the long tail. Since the high values are plausible and may in fact be indicitie of liklihood of default, outlier values will be considered valuable information rather than skewing stuff.\n",
    "\n",
    "Lots of skew in monthly income, but looks to be the 1%. "
   ]
  },
  {
   "cell_type": "code",
   "execution_count": 153,
   "metadata": {},
   "outputs": [
    {
     "data": {
      "text/html": [
       "<div>\n",
       "<style scoped>\n",
       "    .dataframe tbody tr th:only-of-type {\n",
       "        vertical-align: middle;\n",
       "    }\n",
       "\n",
       "    .dataframe tbody tr th {\n",
       "        vertical-align: top;\n",
       "    }\n",
       "\n",
       "    .dataframe thead th {\n",
       "        text-align: right;\n",
       "    }\n",
       "</style>\n",
       "<table border=\"1\" class=\"dataframe\">\n",
       "  <thead>\n",
       "    <tr style=\"text-align: right;\">\n",
       "      <th></th>\n",
       "      <th>PersonID</th>\n",
       "      <th>SeriousDlqin2yrs</th>\n",
       "      <th>RevolvingUtilizationOfUnsecuredLines</th>\n",
       "      <th>age</th>\n",
       "      <th>zipcode</th>\n",
       "      <th>NumberOfTime30-59DaysPastDueNotWorse</th>\n",
       "      <th>DebtRatio</th>\n",
       "      <th>MonthlyIncome</th>\n",
       "      <th>NumberOfOpenCreditLinesAndLoans</th>\n",
       "      <th>NumberOfTimes90DaysLate</th>\n",
       "      <th>NumberRealEstateLoansOrLines</th>\n",
       "      <th>NumberOfTime60-89DaysPastDueNotWorse</th>\n",
       "      <th>NumberOfDependents</th>\n",
       "    </tr>\n",
       "  </thead>\n",
       "  <tbody>\n",
       "    <tr>\n",
       "      <th>PersonID</th>\n",
       "      <td>1.000000</td>\n",
       "      <td>-0.622758</td>\n",
       "      <td>0.004455</td>\n",
       "      <td>0.106861</td>\n",
       "      <td>-0.021581</td>\n",
       "      <td>-0.213398</td>\n",
       "      <td>0.006237</td>\n",
       "      <td>0.019226</td>\n",
       "      <td>0.018574</td>\n",
       "      <td>-0.220860</td>\n",
       "      <td>0.002052</td>\n",
       "      <td>-0.193127</td>\n",
       "      <td>-0.032001</td>\n",
       "    </tr>\n",
       "    <tr>\n",
       "      <th>SeriousDlqin2yrs</th>\n",
       "      <td>-0.622758</td>\n",
       "      <td>1.000000</td>\n",
       "      <td>-0.004490</td>\n",
       "      <td>-0.170384</td>\n",
       "      <td>-0.044811</td>\n",
       "      <td>0.346318</td>\n",
       "      <td>-0.012319</td>\n",
       "      <td>-0.031857</td>\n",
       "      <td>-0.032004</td>\n",
       "      <td>0.354461</td>\n",
       "      <td>-0.006235</td>\n",
       "      <td>0.317781</td>\n",
       "      <td>0.067891</td>\n",
       "    </tr>\n",
       "    <tr>\n",
       "      <th>RevolvingUtilizationOfUnsecuredLines</th>\n",
       "      <td>0.004455</td>\n",
       "      <td>-0.004490</td>\n",
       "      <td>1.000000</td>\n",
       "      <td>-0.008100</td>\n",
       "      <td>0.006015</td>\n",
       "      <td>-0.004671</td>\n",
       "      <td>0.022235</td>\n",
       "      <td>0.005820</td>\n",
       "      <td>-0.014752</td>\n",
       "      <td>-0.003328</td>\n",
       "      <td>0.004709</td>\n",
       "      <td>-0.001678</td>\n",
       "      <td>0.005322</td>\n",
       "    </tr>\n",
       "    <tr>\n",
       "      <th>age</th>\n",
       "      <td>0.106861</td>\n",
       "      <td>-0.170384</td>\n",
       "      <td>-0.008100</td>\n",
       "      <td>1.000000</td>\n",
       "      <td>0.005392</td>\n",
       "      <td>-0.078427</td>\n",
       "      <td>0.038173</td>\n",
       "      <td>0.047631</td>\n",
       "      <td>0.156008</td>\n",
       "      <td>-0.099460</td>\n",
       "      <td>0.046713</td>\n",
       "      <td>-0.082306</td>\n",
       "      <td>-0.212778</td>\n",
       "    </tr>\n",
       "    <tr>\n",
       "      <th>zipcode</th>\n",
       "      <td>-0.021581</td>\n",
       "      <td>-0.044811</td>\n",
       "      <td>0.006015</td>\n",
       "      <td>0.005392</td>\n",
       "      <td>1.000000</td>\n",
       "      <td>-0.016506</td>\n",
       "      <td>0.002092</td>\n",
       "      <td>-0.004932</td>\n",
       "      <td>-0.009244</td>\n",
       "      <td>-0.013289</td>\n",
       "      <td>0.003155</td>\n",
       "      <td>-0.016763</td>\n",
       "      <td>-0.001875</td>\n",
       "    </tr>\n",
       "    <tr>\n",
       "      <th>NumberOfTime30-59DaysPastDueNotWorse</th>\n",
       "      <td>-0.213398</td>\n",
       "      <td>0.346318</td>\n",
       "      <td>-0.004671</td>\n",
       "      <td>-0.078427</td>\n",
       "      <td>-0.016506</td>\n",
       "      <td>1.000000</td>\n",
       "      <td>0.008705</td>\n",
       "      <td>-0.007851</td>\n",
       "      <td>0.085194</td>\n",
       "      <td>0.235397</td>\n",
       "      <td>0.049158</td>\n",
       "      <td>0.332271</td>\n",
       "      <td>0.072264</td>\n",
       "    </tr>\n",
       "    <tr>\n",
       "      <th>DebtRatio</th>\n",
       "      <td>0.006237</td>\n",
       "      <td>-0.012319</td>\n",
       "      <td>0.022235</td>\n",
       "      <td>0.038173</td>\n",
       "      <td>0.002092</td>\n",
       "      <td>0.008705</td>\n",
       "      <td>1.000000</td>\n",
       "      <td>-0.023019</td>\n",
       "      <td>0.081976</td>\n",
       "      <td>-0.013956</td>\n",
       "      <td>0.177456</td>\n",
       "      <td>-0.002226</td>\n",
       "      <td>-0.070883</td>\n",
       "    </tr>\n",
       "    <tr>\n",
       "      <th>MonthlyIncome</th>\n",
       "      <td>0.019226</td>\n",
       "      <td>-0.031857</td>\n",
       "      <td>0.005820</td>\n",
       "      <td>0.047631</td>\n",
       "      <td>-0.004932</td>\n",
       "      <td>-0.007851</td>\n",
       "      <td>-0.023019</td>\n",
       "      <td>1.000000</td>\n",
       "      <td>0.106389</td>\n",
       "      <td>-0.027220</td>\n",
       "      <td>0.126888</td>\n",
       "      <td>-0.014421</td>\n",
       "      <td>0.060371</td>\n",
       "    </tr>\n",
       "    <tr>\n",
       "      <th>NumberOfOpenCreditLinesAndLoans</th>\n",
       "      <td>0.018574</td>\n",
       "      <td>-0.032004</td>\n",
       "      <td>-0.014752</td>\n",
       "      <td>0.156008</td>\n",
       "      <td>-0.009244</td>\n",
       "      <td>0.085194</td>\n",
       "      <td>0.081976</td>\n",
       "      <td>0.106389</td>\n",
       "      <td>1.000000</td>\n",
       "      <td>-0.110482</td>\n",
       "      <td>0.440916</td>\n",
       "      <td>-0.028622</td>\n",
       "      <td>0.058812</td>\n",
       "    </tr>\n",
       "    <tr>\n",
       "      <th>NumberOfTimes90DaysLate</th>\n",
       "      <td>-0.220860</td>\n",
       "      <td>0.354461</td>\n",
       "      <td>-0.003328</td>\n",
       "      <td>-0.099460</td>\n",
       "      <td>-0.013289</td>\n",
       "      <td>0.235397</td>\n",
       "      <td>-0.013956</td>\n",
       "      <td>-0.027220</td>\n",
       "      <td>-0.110482</td>\n",
       "      <td>1.000000</td>\n",
       "      <td>-0.071127</td>\n",
       "      <td>0.320829</td>\n",
       "      <td>0.030887</td>\n",
       "    </tr>\n",
       "    <tr>\n",
       "      <th>NumberRealEstateLoansOrLines</th>\n",
       "      <td>0.002052</td>\n",
       "      <td>-0.006235</td>\n",
       "      <td>0.004709</td>\n",
       "      <td>0.046713</td>\n",
       "      <td>0.003155</td>\n",
       "      <td>0.049158</td>\n",
       "      <td>0.177456</td>\n",
       "      <td>0.126888</td>\n",
       "      <td>0.440916</td>\n",
       "      <td>-0.071127</td>\n",
       "      <td>1.000000</td>\n",
       "      <td>-0.024414</td>\n",
       "      <td>0.114195</td>\n",
       "    </tr>\n",
       "    <tr>\n",
       "      <th>NumberOfTime60-89DaysPastDueNotWorse</th>\n",
       "      <td>-0.193127</td>\n",
       "      <td>0.317781</td>\n",
       "      <td>-0.001678</td>\n",
       "      <td>-0.082306</td>\n",
       "      <td>-0.016763</td>\n",
       "      <td>0.332271</td>\n",
       "      <td>-0.002226</td>\n",
       "      <td>-0.014421</td>\n",
       "      <td>-0.028622</td>\n",
       "      <td>0.320829</td>\n",
       "      <td>-0.024414</td>\n",
       "      <td>1.000000</td>\n",
       "      <td>0.039427</td>\n",
       "    </tr>\n",
       "    <tr>\n",
       "      <th>NumberOfDependents</th>\n",
       "      <td>-0.032001</td>\n",
       "      <td>0.067891</td>\n",
       "      <td>0.005322</td>\n",
       "      <td>-0.212778</td>\n",
       "      <td>-0.001875</td>\n",
       "      <td>0.072264</td>\n",
       "      <td>-0.070883</td>\n",
       "      <td>0.060371</td>\n",
       "      <td>0.058812</td>\n",
       "      <td>0.030887</td>\n",
       "      <td>0.114195</td>\n",
       "      <td>0.039427</td>\n",
       "      <td>1.000000</td>\n",
       "    </tr>\n",
       "  </tbody>\n",
       "</table>\n",
       "</div>"
      ],
      "text/plain": [
       "                                      PersonID  SeriousDlqin2yrs  \\\n",
       "PersonID                              1.000000         -0.622758   \n",
       "SeriousDlqin2yrs                     -0.622758          1.000000   \n",
       "RevolvingUtilizationOfUnsecuredLines  0.004455         -0.004490   \n",
       "age                                   0.106861         -0.170384   \n",
       "zipcode                              -0.021581         -0.044811   \n",
       "NumberOfTime30-59DaysPastDueNotWorse -0.213398          0.346318   \n",
       "DebtRatio                             0.006237         -0.012319   \n",
       "MonthlyIncome                         0.019226         -0.031857   \n",
       "NumberOfOpenCreditLinesAndLoans       0.018574         -0.032004   \n",
       "NumberOfTimes90DaysLate              -0.220860          0.354461   \n",
       "NumberRealEstateLoansOrLines          0.002052         -0.006235   \n",
       "NumberOfTime60-89DaysPastDueNotWorse -0.193127          0.317781   \n",
       "NumberOfDependents                   -0.032001          0.067891   \n",
       "\n",
       "                                      RevolvingUtilizationOfUnsecuredLines  \\\n",
       "PersonID                                                          0.004455   \n",
       "SeriousDlqin2yrs                                                 -0.004490   \n",
       "RevolvingUtilizationOfUnsecuredLines                              1.000000   \n",
       "age                                                              -0.008100   \n",
       "zipcode                                                           0.006015   \n",
       "NumberOfTime30-59DaysPastDueNotWorse                             -0.004671   \n",
       "DebtRatio                                                         0.022235   \n",
       "MonthlyIncome                                                     0.005820   \n",
       "NumberOfOpenCreditLinesAndLoans                                  -0.014752   \n",
       "NumberOfTimes90DaysLate                                          -0.003328   \n",
       "NumberRealEstateLoansOrLines                                      0.004709   \n",
       "NumberOfTime60-89DaysPastDueNotWorse                             -0.001678   \n",
       "NumberOfDependents                                                0.005322   \n",
       "\n",
       "                                           age   zipcode  \\\n",
       "PersonID                              0.106861 -0.021581   \n",
       "SeriousDlqin2yrs                     -0.170384 -0.044811   \n",
       "RevolvingUtilizationOfUnsecuredLines -0.008100  0.006015   \n",
       "age                                   1.000000  0.005392   \n",
       "zipcode                               0.005392  1.000000   \n",
       "NumberOfTime30-59DaysPastDueNotWorse -0.078427 -0.016506   \n",
       "DebtRatio                             0.038173  0.002092   \n",
       "MonthlyIncome                         0.047631 -0.004932   \n",
       "NumberOfOpenCreditLinesAndLoans       0.156008 -0.009244   \n",
       "NumberOfTimes90DaysLate              -0.099460 -0.013289   \n",
       "NumberRealEstateLoansOrLines          0.046713  0.003155   \n",
       "NumberOfTime60-89DaysPastDueNotWorse -0.082306 -0.016763   \n",
       "NumberOfDependents                   -0.212778 -0.001875   \n",
       "\n",
       "                                      NumberOfTime30-59DaysPastDueNotWorse  \\\n",
       "PersonID                                                         -0.213398   \n",
       "SeriousDlqin2yrs                                                  0.346318   \n",
       "RevolvingUtilizationOfUnsecuredLines                             -0.004671   \n",
       "age                                                              -0.078427   \n",
       "zipcode                                                          -0.016506   \n",
       "NumberOfTime30-59DaysPastDueNotWorse                              1.000000   \n",
       "DebtRatio                                                         0.008705   \n",
       "MonthlyIncome                                                    -0.007851   \n",
       "NumberOfOpenCreditLinesAndLoans                                   0.085194   \n",
       "NumberOfTimes90DaysLate                                           0.235397   \n",
       "NumberRealEstateLoansOrLines                                      0.049158   \n",
       "NumberOfTime60-89DaysPastDueNotWorse                              0.332271   \n",
       "NumberOfDependents                                                0.072264   \n",
       "\n",
       "                                      DebtRatio  MonthlyIncome  \\\n",
       "PersonID                               0.006237       0.019226   \n",
       "SeriousDlqin2yrs                      -0.012319      -0.031857   \n",
       "RevolvingUtilizationOfUnsecuredLines   0.022235       0.005820   \n",
       "age                                    0.038173       0.047631   \n",
       "zipcode                                0.002092      -0.004932   \n",
       "NumberOfTime30-59DaysPastDueNotWorse   0.008705      -0.007851   \n",
       "DebtRatio                              1.000000      -0.023019   \n",
       "MonthlyIncome                         -0.023019       1.000000   \n",
       "NumberOfOpenCreditLinesAndLoans        0.081976       0.106389   \n",
       "NumberOfTimes90DaysLate               -0.013956      -0.027220   \n",
       "NumberRealEstateLoansOrLines           0.177456       0.126888   \n",
       "NumberOfTime60-89DaysPastDueNotWorse  -0.002226      -0.014421   \n",
       "NumberOfDependents                    -0.070883       0.060371   \n",
       "\n",
       "                                      NumberOfOpenCreditLinesAndLoans  \\\n",
       "PersonID                                                     0.018574   \n",
       "SeriousDlqin2yrs                                            -0.032004   \n",
       "RevolvingUtilizationOfUnsecuredLines                        -0.014752   \n",
       "age                                                          0.156008   \n",
       "zipcode                                                     -0.009244   \n",
       "NumberOfTime30-59DaysPastDueNotWorse                         0.085194   \n",
       "DebtRatio                                                    0.081976   \n",
       "MonthlyIncome                                                0.106389   \n",
       "NumberOfOpenCreditLinesAndLoans                              1.000000   \n",
       "NumberOfTimes90DaysLate                                     -0.110482   \n",
       "NumberRealEstateLoansOrLines                                 0.440916   \n",
       "NumberOfTime60-89DaysPastDueNotWorse                        -0.028622   \n",
       "NumberOfDependents                                           0.058812   \n",
       "\n",
       "                                      NumberOfTimes90DaysLate  \\\n",
       "PersonID                                            -0.220860   \n",
       "SeriousDlqin2yrs                                     0.354461   \n",
       "RevolvingUtilizationOfUnsecuredLines                -0.003328   \n",
       "age                                                 -0.099460   \n",
       "zipcode                                             -0.013289   \n",
       "NumberOfTime30-59DaysPastDueNotWorse                 0.235397   \n",
       "DebtRatio                                           -0.013956   \n",
       "MonthlyIncome                                       -0.027220   \n",
       "NumberOfOpenCreditLinesAndLoans                     -0.110482   \n",
       "NumberOfTimes90DaysLate                              1.000000   \n",
       "NumberRealEstateLoansOrLines                        -0.071127   \n",
       "NumberOfTime60-89DaysPastDueNotWorse                 0.320829   \n",
       "NumberOfDependents                                   0.030887   \n",
       "\n",
       "                                      NumberRealEstateLoansOrLines  \\\n",
       "PersonID                                                  0.002052   \n",
       "SeriousDlqin2yrs                                         -0.006235   \n",
       "RevolvingUtilizationOfUnsecuredLines                      0.004709   \n",
       "age                                                       0.046713   \n",
       "zipcode                                                   0.003155   \n",
       "NumberOfTime30-59DaysPastDueNotWorse                      0.049158   \n",
       "DebtRatio                                                 0.177456   \n",
       "MonthlyIncome                                             0.126888   \n",
       "NumberOfOpenCreditLinesAndLoans                           0.440916   \n",
       "NumberOfTimes90DaysLate                                  -0.071127   \n",
       "NumberRealEstateLoansOrLines                              1.000000   \n",
       "NumberOfTime60-89DaysPastDueNotWorse                     -0.024414   \n",
       "NumberOfDependents                                        0.114195   \n",
       "\n",
       "                                      NumberOfTime60-89DaysPastDueNotWorse  \\\n",
       "PersonID                                                         -0.193127   \n",
       "SeriousDlqin2yrs                                                  0.317781   \n",
       "RevolvingUtilizationOfUnsecuredLines                             -0.001678   \n",
       "age                                                              -0.082306   \n",
       "zipcode                                                          -0.016763   \n",
       "NumberOfTime30-59DaysPastDueNotWorse                              0.332271   \n",
       "DebtRatio                                                        -0.002226   \n",
       "MonthlyIncome                                                    -0.014421   \n",
       "NumberOfOpenCreditLinesAndLoans                                  -0.028622   \n",
       "NumberOfTimes90DaysLate                                           0.320829   \n",
       "NumberRealEstateLoansOrLines                                     -0.024414   \n",
       "NumberOfTime60-89DaysPastDueNotWorse                              1.000000   \n",
       "NumberOfDependents                                                0.039427   \n",
       "\n",
       "                                      NumberOfDependents  \n",
       "PersonID                                       -0.032001  \n",
       "SeriousDlqin2yrs                                0.067891  \n",
       "RevolvingUtilizationOfUnsecuredLines            0.005322  \n",
       "age                                            -0.212778  \n",
       "zipcode                                        -0.001875  \n",
       "NumberOfTime30-59DaysPastDueNotWorse            0.072264  \n",
       "DebtRatio                                      -0.070883  \n",
       "MonthlyIncome                                   0.060371  \n",
       "NumberOfOpenCreditLinesAndLoans                 0.058812  \n",
       "NumberOfTimes90DaysLate                         0.030887  \n",
       "NumberRealEstateLoansOrLines                    0.114195  \n",
       "NumberOfTime60-89DaysPastDueNotWorse            0.039427  \n",
       "NumberOfDependents                              1.000000  "
      ]
     },
     "execution_count": 153,
     "metadata": {},
     "output_type": "execute_result"
    }
   ],
   "source": [
    "# Correlation\n",
    "corr = data_processing.check_correlations(df)\n",
    "corr"
   ]
  },
  {
   "cell_type": "markdown",
   "metadata": {},
   "source": [
    "### Commentary\n",
    "Number of Times 30-59 Days Past Due Not Worse, Number of Times 60-89 Days Past Due Not Worse, Number of Times 90 Days Past Due are all highly correlated with each other. Also something about  correlation with Serious Delinquicy, may adjust parameters based on this."
   ]
  },
  {
   "cell_type": "code",
   "execution_count": 154,
   "metadata": {},
   "outputs": [
    {
     "data": {
      "image/png": "[encoded data removed]",
      "text/plain": [
       "<Figure size 432x288 with 1 Axes>"
      ]
     },
     "metadata": {},
     "output_type": "display_data"
    },
    {
     "data": {
      "image/png": "[encoded data removed]",
      "text/plain": [
       "<Figure size 432x288 with 1 Axes>"
      ]
     },
     "metadata": {},
     "output_type": "display_data"
    },
    {
     "data": {
      "image/png": "[encoded data removed]",
      "text/plain": [
       "<Figure size 432x288 with 1 Axes>"
      ]
     },
     "metadata": {},
     "output_type": "display_data"
    }
   ],
   "source": [
    "# Make a factorplot function, change kind of chart?\n",
    "#sns.factorplot('NumberOfTime30-59DaysPastDueNotWorse', 'NumberOfTime60-89DaysPastDueNotWorse', col = 'SeriousDlqin2yrs', kind = 'box', data = df)\n",
    "#sns.factorplot('NumberOfTime30-59DaysPastDueNotWorse', 'NumberOfTimes90DaysLate', col = 'SeriousDlqin2yrs', data = df)\n",
    "#sns.factorplot('NumberOfTime60-89DaysPastDueNotWorse', 'NumberOfTimes90DaysLate', col = 'SeriousDlqin2yrs', data = df)\n",
    "sns.boxplot('SeriousDlqin2yrs', 'NumberOfTime30-59DaysPastDueNotWorse', data = df)\n",
    "plt.title('30-59')\n",
    "plt.show()\n",
    "sns.boxplot('SeriousDlqin2yrs', 'NumberOfTime60-89DaysPastDueNotWorse', data = df)\n",
    "plt.title('60-89')\n",
    "plt.show()\n",
    "sns.boxplot('SeriousDlqin2yrs', 'NumberOfTimes90DaysLate', data = df)\n",
    "plt.title('90+')\n",
    "plt.show()"
   ]
  },
  {
   "cell_type": "markdown",
   "metadata": {},
   "source": []
  },
  {
   "cell_type": "code",
   "execution_count": 155,
   "metadata": {},
   "outputs": [
    {
     "data": {
      "text/plain": [
       "Index(['SeriousDlqin2yrs'], dtype='object')"
      ]
     },
     "execution_count": 155,
     "metadata": {},
     "output_type": "execute_result"
    }
   ],
   "source": [
    "# By the established threshold, no other variables need to be dropped due to high correlation\n",
    "high_corr_vars = data_processing.find_high_corr(corr, 0.7, 'SeriousDlqin2yrs')\n",
    "high_corr_vars"
   ]
  },
  {
   "cell_type": "markdown",
   "metadata": {},
   "source": [
    "## Data Processing/Cleaning"
   ]
  },
  {
   "cell_type": "code",
   "execution_count": 156,
   "metadata": {
    "collapsed": true
   },
   "outputs": [],
   "source": [
    "# Address other null/NaN values in the data by filing with median\n",
    "# Discussion of median here\n",
    "model_df = data_processing.fill_nulls(df)"
   ]
  },
  {
   "cell_type": "code",
   "execution_count": 157,
   "metadata": {},
   "outputs": [
    {
     "data": {
      "text/html": [
       "<div>\n",
       "<style scoped>\n",
       "    .dataframe tbody tr th:only-of-type {\n",
       "        vertical-align: middle;\n",
       "    }\n",
       "\n",
       "    .dataframe tbody tr th {\n",
       "        vertical-align: top;\n",
       "    }\n",
       "\n",
       "    .dataframe thead th {\n",
       "        text-align: right;\n",
       "    }\n",
       "</style>\n",
       "<table border=\"1\" class=\"dataframe\">\n",
       "  <thead>\n",
       "    <tr style=\"text-align: right;\">\n",
       "      <th></th>\n",
       "      <th>PersonID</th>\n",
       "      <th>SeriousDlqin2yrs</th>\n",
       "      <th>RevolvingUtilizationOfUnsecuredLines</th>\n",
       "      <th>age</th>\n",
       "      <th>zipcode</th>\n",
       "      <th>NumberOfTime30-59DaysPastDueNotWorse</th>\n",
       "      <th>DebtRatio</th>\n",
       "      <th>MonthlyIncome</th>\n",
       "      <th>NumberOfOpenCreditLinesAndLoans</th>\n",
       "      <th>NumberOfTimes90DaysLate</th>\n",
       "      <th>NumberRealEstateLoansOrLines</th>\n",
       "      <th>NumberOfTime60-89DaysPastDueNotWorse</th>\n",
       "      <th>NumberOfDependents</th>\n",
       "    </tr>\n",
       "  </thead>\n",
       "  <tbody>\n",
       "    <tr>\n",
       "      <th>count</th>\n",
       "      <td>40902.000000</td>\n",
       "      <td>40902.000000</td>\n",
       "      <td>40902.000000</td>\n",
       "      <td>40902.000000</td>\n",
       "      <td>40902.000000</td>\n",
       "      <td>40902.000000</td>\n",
       "      <td>40902.000000</td>\n",
       "      <td>4.090200e+04</td>\n",
       "      <td>40902.000000</td>\n",
       "      <td>40902.000000</td>\n",
       "      <td>40902.000000</td>\n",
       "      <td>40902.000000</td>\n",
       "      <td>40902.000000</td>\n",
       "    </tr>\n",
       "    <tr>\n",
       "      <th>mean</th>\n",
       "      <td>115874.117916</td>\n",
       "      <td>0.159528</td>\n",
       "      <td>6.390853</td>\n",
       "      <td>51.727960</td>\n",
       "      <td>60623.824067</td>\n",
       "      <td>0.317833</td>\n",
       "      <td>332.358069</td>\n",
       "      <td>6.330815e+03</td>\n",
       "      <td>8.426874</td>\n",
       "      <td>0.147719</td>\n",
       "      <td>1.011613</td>\n",
       "      <td>0.099579</td>\n",
       "      <td>0.754926</td>\n",
       "    </tr>\n",
       "    <tr>\n",
       "      <th>std</th>\n",
       "      <td>28024.187827</td>\n",
       "      <td>0.366172</td>\n",
       "      <td>221.927403</td>\n",
       "      <td>14.725605</td>\n",
       "      <td>11.988848</td>\n",
       "      <td>0.819617</td>\n",
       "      <td>1297.801022</td>\n",
       "      <td>1.209591e+04</td>\n",
       "      <td>5.195653</td>\n",
       "      <td>0.648396</td>\n",
       "      <td>1.154201</td>\n",
       "      <td>0.422799</td>\n",
       "      <td>1.114235</td>\n",
       "    </tr>\n",
       "    <tr>\n",
       "      <th>min</th>\n",
       "      <td>22.000000</td>\n",
       "      <td>0.000000</td>\n",
       "      <td>0.000000</td>\n",
       "      <td>21.000000</td>\n",
       "      <td>60601.000000</td>\n",
       "      <td>0.000000</td>\n",
       "      <td>0.000000</td>\n",
       "      <td>0.000000e+00</td>\n",
       "      <td>0.000000</td>\n",
       "      <td>0.000000</td>\n",
       "      <td>0.000000</td>\n",
       "      <td>0.000000</td>\n",
       "      <td>0.000000</td>\n",
       "    </tr>\n",
       "    <tr>\n",
       "      <th>25%</th>\n",
       "      <td>106588.250000</td>\n",
       "      <td>0.000000</td>\n",
       "      <td>0.034133</td>\n",
       "      <td>41.000000</td>\n",
       "      <td>60618.000000</td>\n",
       "      <td>0.000000</td>\n",
       "      <td>0.177775</td>\n",
       "      <td>3.800000e+03</td>\n",
       "      <td>5.000000</td>\n",
       "      <td>0.000000</td>\n",
       "      <td>0.000000</td>\n",
       "      <td>0.000000</td>\n",
       "      <td>0.000000</td>\n",
       "    </tr>\n",
       "    <tr>\n",
       "      <th>50%</th>\n",
       "      <td>119921.500000</td>\n",
       "      <td>0.000000</td>\n",
       "      <td>0.187554</td>\n",
       "      <td>51.000000</td>\n",
       "      <td>60625.000000</td>\n",
       "      <td>0.000000</td>\n",
       "      <td>0.370656</td>\n",
       "      <td>5.264000e+03</td>\n",
       "      <td>8.000000</td>\n",
       "      <td>0.000000</td>\n",
       "      <td>1.000000</td>\n",
       "      <td>0.000000</td>\n",
       "      <td>0.000000</td>\n",
       "    </tr>\n",
       "    <tr>\n",
       "      <th>75%</th>\n",
       "      <td>134718.250000</td>\n",
       "      <td>0.000000</td>\n",
       "      <td>0.661568</td>\n",
       "      <td>62.000000</td>\n",
       "      <td>60629.000000</td>\n",
       "      <td>0.000000</td>\n",
       "      <td>0.868662</td>\n",
       "      <td>7.250000e+03</td>\n",
       "      <td>11.000000</td>\n",
       "      <td>0.000000</td>\n",
       "      <td>2.000000</td>\n",
       "      <td>0.000000</td>\n",
       "      <td>1.000000</td>\n",
       "    </tr>\n",
       "    <tr>\n",
       "      <th>max</th>\n",
       "      <td>149999.000000</td>\n",
       "      <td>1.000000</td>\n",
       "      <td>22000.000000</td>\n",
       "      <td>109.000000</td>\n",
       "      <td>60644.000000</td>\n",
       "      <td>12.000000</td>\n",
       "      <td>106885.000000</td>\n",
       "      <td>1.794060e+06</td>\n",
       "      <td>56.000000</td>\n",
       "      <td>17.000000</td>\n",
       "      <td>32.000000</td>\n",
       "      <td>11.000000</td>\n",
       "      <td>13.000000</td>\n",
       "    </tr>\n",
       "  </tbody>\n",
       "</table>\n",
       "</div>"
      ],
      "text/plain": [
       "            PersonID  SeriousDlqin2yrs  RevolvingUtilizationOfUnsecuredLines  \\\n",
       "count   40902.000000      40902.000000                          40902.000000   \n",
       "mean   115874.117916          0.159528                              6.390853   \n",
       "std     28024.187827          0.366172                            221.927403   \n",
       "min        22.000000          0.000000                              0.000000   \n",
       "25%    106588.250000          0.000000                              0.034133   \n",
       "50%    119921.500000          0.000000                              0.187554   \n",
       "75%    134718.250000          0.000000                              0.661568   \n",
       "max    149999.000000          1.000000                          22000.000000   \n",
       "\n",
       "                age       zipcode  NumberOfTime30-59DaysPastDueNotWorse  \\\n",
       "count  40902.000000  40902.000000                          40902.000000   \n",
       "mean      51.727960  60623.824067                              0.317833   \n",
       "std       14.725605     11.988848                              0.819617   \n",
       "min       21.000000  60601.000000                              0.000000   \n",
       "25%       41.000000  60618.000000                              0.000000   \n",
       "50%       51.000000  60625.000000                              0.000000   \n",
       "75%       62.000000  60629.000000                              0.000000   \n",
       "max      109.000000  60644.000000                             12.000000   \n",
       "\n",
       "           DebtRatio  MonthlyIncome  NumberOfOpenCreditLinesAndLoans  \\\n",
       "count   40902.000000   4.090200e+04                     40902.000000   \n",
       "mean      332.358069   6.330815e+03                         8.426874   \n",
       "std      1297.801022   1.209591e+04                         5.195653   \n",
       "min         0.000000   0.000000e+00                         0.000000   \n",
       "25%         0.177775   3.800000e+03                         5.000000   \n",
       "50%         0.370656   5.264000e+03                         8.000000   \n",
       "75%         0.868662   7.250000e+03                        11.000000   \n",
       "max    106885.000000   1.794060e+06                        56.000000   \n",
       "\n",
       "       NumberOfTimes90DaysLate  NumberRealEstateLoansOrLines  \\\n",
       "count             40902.000000                  40902.000000   \n",
       "mean                  0.147719                      1.011613   \n",
       "std                   0.648396                      1.154201   \n",
       "min                   0.000000                      0.000000   \n",
       "25%                   0.000000                      0.000000   \n",
       "50%                   0.000000                      1.000000   \n",
       "75%                   0.000000                      2.000000   \n",
       "max                  17.000000                     32.000000   \n",
       "\n",
       "       NumberOfTime60-89DaysPastDueNotWorse  NumberOfDependents  \n",
       "count                          40902.000000        40902.000000  \n",
       "mean                               0.099579            0.754926  \n",
       "std                                0.422799            1.114235  \n",
       "min                                0.000000            0.000000  \n",
       "25%                                0.000000            0.000000  \n",
       "50%                                0.000000            0.000000  \n",
       "75%                                0.000000            1.000000  \n",
       "max                               11.000000           13.000000  "
      ]
     },
     "execution_count": 157,
     "metadata": {},
     "output_type": "execute_result"
    }
   ],
   "source": [
    "model_df.describe()"
   ]
  },
  {
   "cell_type": "markdown",
   "metadata": {},
   "source": [
    "## Generate Features/Predictors"
   ]
  },
  {
   "cell_type": "code",
   "execution_count": 158,
   "metadata": {},
   "outputs": [],
   "source": [
    "# Discretize the age variable into 10 ranges variable\n",
    "model_df['age_range'] = data_processing.continuous_to_cat(model_df, 'age')"
   ]
  },
  {
   "cell_type": "code",
   "execution_count": 159,
   "metadata": {},
   "outputs": [],
   "source": [
    "# Make Number of Open Credit Lines a dummy variable\n",
    "model_df = data_processing.cat_to_dummy(model_df, 'NumberOfOpenCreditLinesAndLoans')"
   ]
  },
  {
   "cell_type": "code",
   "execution_count": 160,
   "metadata": {},
   "outputs": [],
   "source": [
    "#max_features = ['RevolvingUtilizationOfUnsecuredLines', 'age', 'zipcode', \n",
    "#                'NumberOfTime30-59DaysPastDueNotWorse', 'DebtRatio','MonthlyIncome',\n",
    "#                'NumberOfOpenCreditLinesAndLoans', 'NumberOfTimes90DaysLate', \n",
    "#                'NumberRealEstateLoansOrLines', 'NumberOfTime60-89DaysPastDueNotWorse', 'NumberOfDependents']\n",
    "\n",
    "max_features = ['RevolvingUtilizationOfUnsecuredLines',\n",
    "       'age', 'zipcode', 'NumberOfTime30-59DaysPastDueNotWorse', 'DebtRatio',\n",
    "       'MonthlyIncome', 'NumberOfTimes90DaysLate',\n",
    "       'NumberRealEstateLoansOrLines', 'NumberOfTime60-89DaysPastDueNotWorse',\n",
    "       'NumberOfDependents', 'age_range', 'NumberOfOpenCreditLinesAndLoans_0',\n",
    "       'NumberOfOpenCreditLinesAndLoans_1',\n",
    "       'NumberOfOpenCreditLinesAndLoans_2',\n",
    "       'NumberOfOpenCreditLinesAndLoans_3',\n",
    "       'NumberOfOpenCreditLinesAndLoans_4',\n",
    "       'NumberOfOpenCreditLinesAndLoans_5',\n",
    "       'NumberOfOpenCreditLinesAndLoans_6',\n",
    "       'NumberOfOpenCreditLinesAndLoans_7',\n",
    "       'NumberOfOpenCreditLinesAndLoans_8',\n",
    "       'NumberOfOpenCreditLinesAndLoans_9',\n",
    "       'NumberOfOpenCreditLinesAndLoans_10',\n",
    "       'NumberOfOpenCreditLinesAndLoans_11',\n",
    "       'NumberOfOpenCreditLinesAndLoans_12',\n",
    "       'NumberOfOpenCreditLinesAndLoans_13',\n",
    "       'NumberOfOpenCreditLinesAndLoans_14',\n",
    "       'NumberOfOpenCreditLinesAndLoans_15',\n",
    "       'NumberOfOpenCreditLinesAndLoans_16',\n",
    "       'NumberOfOpenCreditLinesAndLoans_17',\n",
    "       'NumberOfOpenCreditLinesAndLoans_18',\n",
    "       'NumberOfOpenCreditLinesAndLoans_19',\n",
    "       'NumberOfOpenCreditLinesAndLoans_20',\n",
    "       'NumberOfOpenCreditLinesAndLoans_21',\n",
    "       'NumberOfOpenCreditLinesAndLoans_22',\n",
    "       'NumberOfOpenCreditLinesAndLoans_23',\n",
    "       'NumberOfOpenCreditLinesAndLoans_24',\n",
    "       'NumberOfOpenCreditLinesAndLoans_25',\n",
    "       'NumberOfOpenCreditLinesAndLoans_26',\n",
    "       'NumberOfOpenCreditLinesAndLoans_27',\n",
    "       'NumberOfOpenCreditLinesAndLoans_28',\n",
    "       'NumberOfOpenCreditLinesAndLoans_29',\n",
    "       'NumberOfOpenCreditLinesAndLoans_30',\n",
    "       'NumberOfOpenCreditLinesAndLoans_31',\n",
    "       'NumberOfOpenCreditLinesAndLoans_32',\n",
    "       'NumberOfOpenCreditLinesAndLoans_33',\n",
    "       'NumberOfOpenCreditLinesAndLoans_34',\n",
    "       'NumberOfOpenCreditLinesAndLoans_35',\n",
    "       'NumberOfOpenCreditLinesAndLoans_36',\n",
    "       'NumberOfOpenCreditLinesAndLoans_37',\n",
    "       'NumberOfOpenCreditLinesAndLoans_38',\n",
    "       'NumberOfOpenCreditLinesAndLoans_39',\n",
    "       'NumberOfOpenCreditLinesAndLoans_40',\n",
    "       'NumberOfOpenCreditLinesAndLoans_42',\n",
    "       'NumberOfOpenCreditLinesAndLoans_43',\n",
    "       'NumberOfOpenCreditLinesAndLoans_45',\n",
    "       'NumberOfOpenCreditLinesAndLoans_48',\n",
    "       'NumberOfOpenCreditLinesAndLoans_49',\n",
    "       'NumberOfOpenCreditLinesAndLoans_50',\n",
    "       'NumberOfOpenCreditLinesAndLoans_51',\n",
    "       'NumberOfOpenCreditLinesAndLoans_52',\n",
    "       'NumberOfOpenCreditLinesAndLoans_56']"
   ]
  },
  {
   "cell_type": "code",
   "execution_count": 161,
   "metadata": {
    "collapsed": true
   },
   "outputs": [],
   "source": [
    "X, Y = data_processing.x_y_generator(model_df, max_features,'SeriousDlqin2yrs')"
   ]
  },
  {
   "cell_type": "markdown",
   "metadata": {},
   "source": [
    "## Build Classifier"
   ]
  },
  {
   "cell_type": "code",
   "execution_count": 162,
   "metadata": {
    "collapsed": true
   },
   "outputs": [],
   "source": [
    "# Train/Test Split\n",
    "test_size = 0.3\n",
    "x_train, x_test, y_train, y_test = train_test_split(X, Y, test_size=test_size)"
   ]
  },
  {
   "cell_type": "code",
   "execution_count": 163,
   "metadata": {
    "collapsed": true
   },
   "outputs": [],
   "source": [
    "knn = KNeighborsClassifier(n_neighbors=6, metric='manhattan', weights = 'distance')\n",
    "knn.fit(x_train, y_train)\n",
    "y_predict = knn.predict(x_test)"
   ]
  },
  {
   "cell_type": "markdown",
   "metadata": {},
   "source": [
    "## Evaluate Classifier"
   ]
  },
  {
   "cell_type": "code",
   "execution_count": 164,
   "metadata": {},
   "outputs": [
    {
     "data": {
      "text/plain": [
       "0.8292722679488225"
      ]
     },
     "execution_count": 164,
     "metadata": {},
     "output_type": "execute_result"
    }
   ],
   "source": [
    "# Evaluate accuracy on test set\n",
    "data_processing.check_accuracy(y_test, y_predict)"
   ]
  },
  {
   "cell_type": "code",
   "execution_count": 165,
   "metadata": {},
   "outputs": [
    {
     "data": {
      "text/plain": [
       "array([[10044,   283],\n",
       "       [ 1812,   132]])"
      ]
     },
     "execution_count": 165,
     "metadata": {},
     "output_type": "execute_result"
    }
   ],
   "source": [
    "# Test set confusion matrix\n",
    "data_processing.confusion_matrix(y_test, y_predict)"
   ]
  },
  {
   "cell_type": "markdown",
   "metadata": {},
   "source": [
    "### Commentary \n",
    "\n",
    "While other models had a higher accuracy rate, this model did the best on correctly categorizing defaults."
   ]
  },
  {
   "cell_type": "markdown",
   "metadata": {},
   "source": [
    "## Check on Full Dataset"
   ]
  },
  {
   "cell_type": "code",
   "execution_count": 166,
   "metadata": {
    "collapsed": true
   },
   "outputs": [],
   "source": [
    "full_pred = knn.predict(X)"
   ]
  },
  {
   "cell_type": "code",
   "execution_count": 167,
   "metadata": {},
   "outputs": [
    {
     "data": {
      "text/plain": [
       "0.9487555620752042"
      ]
     },
     "execution_count": 167,
     "metadata": {},
     "output_type": "execute_result"
    }
   ],
   "source": [
    "data_processing.check_accuracy(Y, full_pred)"
   ]
  },
  {
   "cell_type": "code",
   "execution_count": 168,
   "metadata": {},
   "outputs": [
    {
     "data": {
      "text/plain": [
       "array([[34094,   283],\n",
       "       [ 1813,  4712]])"
      ]
     },
     "execution_count": 168,
     "metadata": {},
     "output_type": "execute_result"
    }
   ],
   "source": [
    "data_processing.confusion_matrix(Y, full_pred)"
   ]
  },
  {
   "cell_type": "markdown",
   "metadata": {},
   "source": [
    "### Commentary\n",
    "On the full dataset this really crushes."
   ]
  }
 ],
 "metadata": {
  "kernelspec": {
   "display_name": "Python 3",
   "language": "python",
   "name": "python3"
  },
  "language_info": {
   "codemirror_mode": {
    "name": "ipython",
    "version": 3
   },
   "file_extension": ".py",
   "mimetype": "text/x-python",
   "name": "python",
   "nbconvert_exporter": "python",
   "pygments_lexer": "ipython3",
   "version": "3.6.3"
  }
 },
 "nbformat": 4,
 "nbformat_minor": 2
}
