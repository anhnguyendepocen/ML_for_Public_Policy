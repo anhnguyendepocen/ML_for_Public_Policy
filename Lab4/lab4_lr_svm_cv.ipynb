{
 "cells": [
  {
   "cell_type": "markdown",
   "metadata": {},
   "source": [
    "# Lab 4: Logistic Regression, SVM, Cross Validation\n",
    "In this lab we will \n",
    "1. get some more practice with classification methods(Logistic Regression and Support Vector Machines)\n",
    "2. explore validation methods that we covered in class this week and last.\n",
    "\n",
    "We'll use the credit data from Assignment 2 for this lab."
   ]
  },
  {
   "cell_type": "markdown",
   "metadata": {},
   "source": [
    "## Import libraries"
   ]
  },
  {
   "cell_type": "code",
   "execution_count": 1,
   "metadata": {
    "collapsed": true
   },
   "outputs": [],
   "source": [
    "import numpy as np\n",
    "import matplotlib.pyplot as plt\n",
    "import seaborn as sns\n",
    "import pandas as pd\n",
    "from sklearn.model_selection import train_test_split, KFold\n",
    "%matplotlib inline"
   ]
  },
  {
   "cell_type": "code",
   "execution_count": 2,
   "metadata": {
    "collapsed": true
   },
   "outputs": [],
   "source": [
    "# Load data\n",
    "fname = '../Assignment2/data/credit-data.csv'\n",
    "df = pd.read_csv(fname)"
   ]
  },
  {
   "cell_type": "code",
   "execution_count": 3,
   "metadata": {},
   "outputs": [
    {
     "data": {
      "text/plain": [
       "PersonID                                41016\n",
       "SeriousDlqin2yrs                        41016\n",
       "RevolvingUtilizationOfUnsecuredLines    41016\n",
       "age                                     41016\n",
       "zipcode                                 41016\n",
       "NumberOfTime30-59DaysPastDueNotWorse    41016\n",
       "DebtRatio                               41016\n",
       "MonthlyIncome                           33042\n",
       "NumberOfOpenCreditLinesAndLoans         41016\n",
       "NumberOfTimes90DaysLate                 41016\n",
       "NumberRealEstateLoansOrLines            41016\n",
       "NumberOfTime60-89DaysPastDueNotWorse    41016\n",
       "NumberOfDependents                      39979\n",
       "dtype: int64"
      ]
     },
     "execution_count": 3,
     "metadata": {},
     "output_type": "execute_result"
    }
   ],
   "source": [
    "# get counts\n",
    "df.count()"
   ]
  },
  {
   "cell_type": "code",
   "execution_count": 11,
   "metadata": {},
   "outputs": [
    {
     "data": {
      "text/plain": [
       "Index(['PersonID', 'SeriousDlqin2yrs', 'RevolvingUtilizationOfUnsecuredLines',\n",
       "       'age', 'zipcode', 'NumberOfTime30-59DaysPastDueNotWorse', 'DebtRatio',\n",
       "       'MonthlyIncome', 'NumberOfOpenCreditLinesAndLoans',\n",
       "       'NumberOfTimes90DaysLate', 'NumberRealEstateLoansOrLines',\n",
       "       'NumberOfTime60-89DaysPastDueNotWorse', 'NumberOfDependents'],\n",
       "      dtype='object')"
      ]
     },
     "execution_count": 11,
     "metadata": {},
     "output_type": "execute_result"
    }
   ],
   "source": [
    "df.columns"
   ]
  },
  {
   "cell_type": "markdown",
   "metadata": {},
   "source": [
    "# 1) Cleaning the dataset\n",
    "A decent chunk of the columns are missing values. If you're using features that are missing values, you need to do something to take care of them(IE: drop those rows, fill in the missing value, add a new category that corresponds to missing value, etc).\n",
    "\n",
    "Remember that a lot of these features are not operating at the same magnitude. A feature like \n",
    "Monthly Income has values on the order of $10^3$ while a feature like Number of times 90 days late is on the order of 10. So do some kind of feature normalization or bucketing to account for this.\n",
    "\n",
    "## Important\n",
    "Some data cleaning can happen on the entire data set and some needs to happen for each training and test set separately. You can write the code/function to do this here but you should not do this globally on the entire dataset. For example:\n",
    "* imputation: any imputation requiring computation (mean or median for example) on a given data set should take place for each training set separately.\n",
    "* discretization: same as imputation."
   ]
  },
  {
   "cell_type": "code",
   "execution_count": 6,
   "metadata": {},
   "outputs": [],
   "source": [
    "def fill_nulls(df):\n",
    "\t'''\n",
    "\tFind values in a dataframe with null values and fill them with the median\n",
    "\tvalue of that variable\n",
    "\n",
    "\tInputs:\n",
    "\t- df (DataFrame): Dataset of interest\n",
    "\n",
    "\tReturns the original dataframe with null values filled\n",
    "\t'''\n",
    "\t# Find columns with missing values\n",
    "\tisnull = df.isnull().any()\n",
    "\tisnull_cols = list(isnull[isnull == True].index)\n",
    "\n",
    "\t# Fill nulls with median\n",
    "\tfor col in isnull_cols:\n",
    "\t\tcol_mean = df[col].median()\n",
    "\t\tdf[col].fillna(col_mean, inplace = True)\n",
    "\n",
    "\treturn df"
   ]
  },
  {
   "cell_type": "markdown",
   "metadata": {},
   "source": [
    "## Split the data \n",
    "Split the data into a training set and a test set. We're assuming here that there is no time dimension here so we'll split the data by rows and not use any time variables into account."
   ]
  },
  {
   "cell_type": "code",
   "execution_count": 12,
   "metadata": {
    "collapsed": true
   },
   "outputs": [],
   "source": [
    "from sklearn.model_selection import train_test_split\n",
    "features = ['RevolvingUtilizationOfUnsecuredLines',\n",
    "       'age', 'zipcode', 'NumberOfTime30-59DaysPastDueNotWorse', 'DebtRatio',\n",
    "       'MonthlyIncome', 'NumberOfOpenCreditLinesAndLoans',\n",
    "       'NumberOfTimes90DaysLate', 'NumberRealEstateLoansOrLines',\n",
    "       'NumberOfTime60-89DaysPastDueNotWorse', 'NumberOfDependents'] # Pick the features you want\n",
    "df_features = df[features]\n",
    "df_target = df['SeriousDlqin2yrs']\n",
    "X_train, X_test, Y_train, Y_test = train_test_split(df_features, df_target, test_size=0.2)"
   ]
  },
  {
   "cell_type": "code",
   "execution_count": 14,
   "metadata": {},
   "outputs": [
    {
     "name": "stderr",
     "output_type": "stream",
     "text": [
      "/usr/local/lib/python3.6/site-packages/pandas/core/generic.py:4355: SettingWithCopyWarning: \n",
      "A value is trying to be set on a copy of a slice from a DataFrame\n",
      "\n",
      "See the caveats in the documentation: http://pandas.pydata.org/pandas-docs/stable/indexing.html#indexing-view-versus-copy\n",
      "  self._update_inplace(new_data)\n"
     ]
    }
   ],
   "source": [
    "X_train = fill_nulls(X_train)\n",
    "X_test = fill_nulls(X_test)"
   ]
  },
  {
   "cell_type": "code",
   "execution_count": 15,
   "metadata": {},
   "outputs": [
    {
     "data": {
      "text/html": [
       "<div>\n",
       "<style scoped>\n",
       "    .dataframe tbody tr th:only-of-type {\n",
       "        vertical-align: middle;\n",
       "    }\n",
       "\n",
       "    .dataframe tbody tr th {\n",
       "        vertical-align: top;\n",
       "    }\n",
       "\n",
       "    .dataframe thead th {\n",
       "        text-align: right;\n",
       "    }\n",
       "</style>\n",
       "<table border=\"1\" class=\"dataframe\">\n",
       "  <thead>\n",
       "    <tr style=\"text-align: right;\">\n",
       "      <th></th>\n",
       "      <th>RevolvingUtilizationOfUnsecuredLines</th>\n",
       "      <th>age</th>\n",
       "      <th>zipcode</th>\n",
       "      <th>NumberOfTime30-59DaysPastDueNotWorse</th>\n",
       "      <th>DebtRatio</th>\n",
       "      <th>MonthlyIncome</th>\n",
       "      <th>NumberOfOpenCreditLinesAndLoans</th>\n",
       "      <th>NumberOfTimes90DaysLate</th>\n",
       "      <th>NumberRealEstateLoansOrLines</th>\n",
       "      <th>NumberOfTime60-89DaysPastDueNotWorse</th>\n",
       "      <th>NumberOfDependents</th>\n",
       "    </tr>\n",
       "  </thead>\n",
       "  <tbody>\n",
       "    <tr>\n",
       "      <th>count</th>\n",
       "      <td>32812.000000</td>\n",
       "      <td>32812.000000</td>\n",
       "      <td>32812.000000</td>\n",
       "      <td>32812.000000</td>\n",
       "      <td>32812.000000</td>\n",
       "      <td>3.281200e+04</td>\n",
       "      <td>32812.000000</td>\n",
       "      <td>32812.000000</td>\n",
       "      <td>32812.000000</td>\n",
       "      <td>32812.000000</td>\n",
       "      <td>32812.000000</td>\n",
       "    </tr>\n",
       "    <tr>\n",
       "      <th>mean</th>\n",
       "      <td>6.802012</td>\n",
       "      <td>51.701054</td>\n",
       "      <td>60623.874985</td>\n",
       "      <td>0.587773</td>\n",
       "      <td>331.797236</td>\n",
       "      <td>6.327580e+03</td>\n",
       "      <td>8.394429</td>\n",
       "      <td>0.418658</td>\n",
       "      <td>1.007192</td>\n",
       "      <td>0.371724</td>\n",
       "      <td>0.754541</td>\n",
       "    </tr>\n",
       "    <tr>\n",
       "      <th>std</th>\n",
       "      <td>241.447579</td>\n",
       "      <td>14.747443</td>\n",
       "      <td>11.980236</td>\n",
       "      <td>5.199762</td>\n",
       "      <td>1334.798128</td>\n",
       "      <td>1.281438e+04</td>\n",
       "      <td>5.206864</td>\n",
       "      <td>5.185216</td>\n",
       "      <td>1.165685</td>\n",
       "      <td>5.165096</td>\n",
       "      <td>1.114667</td>\n",
       "    </tr>\n",
       "    <tr>\n",
       "      <th>min</th>\n",
       "      <td>0.000000</td>\n",
       "      <td>21.000000</td>\n",
       "      <td>60601.000000</td>\n",
       "      <td>0.000000</td>\n",
       "      <td>0.000000</td>\n",
       "      <td>0.000000e+00</td>\n",
       "      <td>0.000000</td>\n",
       "      <td>0.000000</td>\n",
       "      <td>0.000000</td>\n",
       "      <td>0.000000</td>\n",
       "      <td>0.000000</td>\n",
       "    </tr>\n",
       "    <tr>\n",
       "      <th>25%</th>\n",
       "      <td>0.034236</td>\n",
       "      <td>41.000000</td>\n",
       "      <td>60618.000000</td>\n",
       "      <td>0.000000</td>\n",
       "      <td>0.174179</td>\n",
       "      <td>3.800000e+03</td>\n",
       "      <td>5.000000</td>\n",
       "      <td>0.000000</td>\n",
       "      <td>0.000000</td>\n",
       "      <td>0.000000</td>\n",
       "      <td>0.000000</td>\n",
       "    </tr>\n",
       "    <tr>\n",
       "      <th>50%</th>\n",
       "      <td>0.189293</td>\n",
       "      <td>51.000000</td>\n",
       "      <td>60625.000000</td>\n",
       "      <td>0.000000</td>\n",
       "      <td>0.366855</td>\n",
       "      <td>5.261500e+03</td>\n",
       "      <td>8.000000</td>\n",
       "      <td>0.000000</td>\n",
       "      <td>1.000000</td>\n",
       "      <td>0.000000</td>\n",
       "      <td>0.000000</td>\n",
       "    </tr>\n",
       "    <tr>\n",
       "      <th>75%</th>\n",
       "      <td>0.667668</td>\n",
       "      <td>62.000000</td>\n",
       "      <td>60629.000000</td>\n",
       "      <td>0.000000</td>\n",
       "      <td>0.863268</td>\n",
       "      <td>7.241000e+03</td>\n",
       "      <td>11.000000</td>\n",
       "      <td>0.000000</td>\n",
       "      <td>2.000000</td>\n",
       "      <td>0.000000</td>\n",
       "      <td>1.000000</td>\n",
       "    </tr>\n",
       "    <tr>\n",
       "      <th>max</th>\n",
       "      <td>22000.000000</td>\n",
       "      <td>109.000000</td>\n",
       "      <td>60644.000000</td>\n",
       "      <td>98.000000</td>\n",
       "      <td>106885.000000</td>\n",
       "      <td>1.794060e+06</td>\n",
       "      <td>56.000000</td>\n",
       "      <td>98.000000</td>\n",
       "      <td>32.000000</td>\n",
       "      <td>98.000000</td>\n",
       "      <td>13.000000</td>\n",
       "    </tr>\n",
       "  </tbody>\n",
       "</table>\n",
       "</div>"
      ],
      "text/plain": [
       "       RevolvingUtilizationOfUnsecuredLines           age       zipcode  \\\n",
       "count                          32812.000000  32812.000000  32812.000000   \n",
       "mean                               6.802012     51.701054  60623.874985   \n",
       "std                              241.447579     14.747443     11.980236   \n",
       "min                                0.000000     21.000000  60601.000000   \n",
       "25%                                0.034236     41.000000  60618.000000   \n",
       "50%                                0.189293     51.000000  60625.000000   \n",
       "75%                                0.667668     62.000000  60629.000000   \n",
       "max                            22000.000000    109.000000  60644.000000   \n",
       "\n",
       "       NumberOfTime30-59DaysPastDueNotWorse      DebtRatio  MonthlyIncome  \\\n",
       "count                          32812.000000   32812.000000   3.281200e+04   \n",
       "mean                               0.587773     331.797236   6.327580e+03   \n",
       "std                                5.199762    1334.798128   1.281438e+04   \n",
       "min                                0.000000       0.000000   0.000000e+00   \n",
       "25%                                0.000000       0.174179   3.800000e+03   \n",
       "50%                                0.000000       0.366855   5.261500e+03   \n",
       "75%                                0.000000       0.863268   7.241000e+03   \n",
       "max                               98.000000  106885.000000   1.794060e+06   \n",
       "\n",
       "       NumberOfOpenCreditLinesAndLoans  NumberOfTimes90DaysLate  \\\n",
       "count                     32812.000000             32812.000000   \n",
       "mean                          8.394429                 0.418658   \n",
       "std                           5.206864                 5.185216   \n",
       "min                           0.000000                 0.000000   \n",
       "25%                           5.000000                 0.000000   \n",
       "50%                           8.000000                 0.000000   \n",
       "75%                          11.000000                 0.000000   \n",
       "max                          56.000000                98.000000   \n",
       "\n",
       "       NumberRealEstateLoansOrLines  NumberOfTime60-89DaysPastDueNotWorse  \\\n",
       "count                  32812.000000                          32812.000000   \n",
       "mean                       1.007192                              0.371724   \n",
       "std                        1.165685                              5.165096   \n",
       "min                        0.000000                              0.000000   \n",
       "25%                        0.000000                              0.000000   \n",
       "50%                        1.000000                              0.000000   \n",
       "75%                        2.000000                              0.000000   \n",
       "max                       32.000000                             98.000000   \n",
       "\n",
       "       NumberOfDependents  \n",
       "count        32812.000000  \n",
       "mean             0.754541  \n",
       "std              1.114667  \n",
       "min              0.000000  \n",
       "25%              0.000000  \n",
       "50%              0.000000  \n",
       "75%              1.000000  \n",
       "max             13.000000  "
      ]
     },
     "execution_count": 15,
     "metadata": {},
     "output_type": "execute_result"
    }
   ],
   "source": [
    "X_train.describe()"
   ]
  },
  {
   "cell_type": "markdown",
   "metadata": {},
   "source": [
    "# 2) Applying Logistic Regression"
   ]
  },
  {
   "cell_type": "markdown",
   "metadata": {},
   "source": [
    "Ref: http://scikit-learn.org/stable/modules/generated/sklearn.linear_model.LogisticRegression.html\n",
    "\n",
    "You'll notice that LogisticRegression takes a ton of parameters. We'll play around with the \"penalty\" and \"C\" parameters.\n",
    "If we set the penalty parameter to ['l2'](http://mathworld.wolfram.com/L2-Norm.html), sklearn's LogisticRegression model solves the following minimization problem:\n",
    "\n",
    "$$ \\min_{\\beta} ||\\beta||_2 + C \\sum_{i} \\log ( -y_i (X_i^T \\beta) +1)$$\n",
    "\n",
    "Similarly, if we set the penalty parameter to ['l1'](http://mathworld.wolfram.com/L2-Norm.html), LogisticRegression will solve the following minimization problem:\n",
    "\n",
    "$$\\min_{\\beta} ||\\beta||_1 + C \\sum_{i} \\log ( -y_i (X_i^T \\beta) +1)$$\n",
    "\n",
    "where $$||\\beta||_2 = \\sqrt { \\sum_{i} \\beta_i^2 }$$ and $$||\\beta||_1 =  \\sum_{i} | \\beta_i | $$ \n",
    "\n",
    "Try running logistic regression with both L1 and L2 penalties and a mix of C values with K-fold cross validation on the training set. If the K-fold cross validation takes too long, consider using a smaller subset of the data. Write a function to perform the cross validation over both penalties, and a range of C values (something like $10^{-2}, 10^{-1}, 1, 10, 10^2)$ is reasonable\n",
    "\n",
    "Write a function that performs [KFold cross validation](http://scikit-learn.org/stable/modules/generated/sklearn.model_selection.KFold.html) over the training set. This function\n",
    "should loop over penalty('l1' and 'l2') and C values.\n",
    "\n",
    "In this cross validation function, you should only be dealing with the training set. Below is a sample of how I might structure my cross validation + parameter search loop."
   ]
  },
  {
   "cell_type": "code",
   "execution_count": 17,
   "metadata": {},
   "outputs": [
    {
     "name": "stdout",
     "output_type": "stream",
     "text": [
      "Model with params: 0.001 | MSE: 0.08\n",
      "Model with params: 0.01 | MSE: 0.08\n",
      "Model with params: 0.1 | MSE: 0.08\n",
      "Model with params: 1 | MSE: 0.08\n",
      "Model with params: 10 | MSE: 0.08\n",
      "Model with params: 100 | MSE: 0.08\n"
     ]
    }
   ],
   "source": [
    "# Here is an example of how I'd do this for linear regression\n",
    "from sklearn.linear_model import Ridge\n",
    "from sklearn.metrics import mean_squared_error # to evaluate how good/bad my model predictions are\n",
    "N = 1000\n",
    "X = np.random.random((N, 10))\n",
    "Y = np.random.random(N)\n",
    "X_train, X_test, y_train, y_test = train_test_split(X, Y, test_size=0.2)\n",
    "alphas = [10**i for i in range(-3, 3)]\n",
    "splits = 5\n",
    "kf = KFold(n_splits=splits)\n",
    "\n",
    "results = {} # dict of model params -> model performance over the KFold cross validation\n",
    "for fold_num, (train_idx, test_idx) in enumerate(kf.split(X_train)):\n",
    "    x_split_train, x_split_test = X_train[train_idx], X_train[test_idx]\n",
    "    y_split_train, y_split_test = y_train[train_idx], y_train[test_idx]\n",
    "    \n",
    "    for a in alphas:\n",
    "        linreg = Ridge(alpha=a)\n",
    "        linreg.fit(x_split_train, y_split_train)\n",
    "        y_pred = linreg.predict(x_split_test)\n",
    "        model_key = (a, ) # this will be a longer tuple for things with more parameters\n",
    "        results[a] =  results.get(a, 0) + mean_squared_error(y_pred, y_split_test) / splits\n",
    "\n",
    "for model, model_perf in results.items():\n",
    "    # the MSE here is meaningless b/c we're fitting random noise to random noise.\n",
    "    print(\"Model with params: {} | MSE: {:.2f}\".format(model, model_perf))"
   ]
  },
  {
   "cell_type": "markdown",
   "metadata": {},
   "source": [
    "For regression tasks, mean_squared_error is a sensible metric to evaluate on. \n",
    "\n",
    "For classification, we might not want to use accuracy if our dataset is a unbalanced. Instead we might use [roc_auc_score](http://scikit-learn.org/stable/modules/generated/sklearn.metrics.roc_auc_score.html#sklearn.metrics.roc_auc_score) or precision or recall at a certain threshold. Note that regardless of which you use, you should call predict_proba from the LogisticRegression object."
   ]
  },
  {
   "cell_type": "markdown",
   "metadata": {},
   "source": [
    "Write a function to do do cross validation over the parameters penalty and C with LogisticRegresion."
   ]
  },
  {
   "cell_type": "code",
   "execution_count": 55,
   "metadata": {},
   "outputs": [
    {
     "name": "stderr",
     "output_type": "stream",
     "text": [
      "/usr/local/lib/python3.6/site-packages/sklearn/utils/validation.py:578: DataConversionWarning: A column-vector y was passed when a 1d array was expected. Please change the shape of y to (n_samples, ), for example using ravel().\n",
      "  y = column_or_1d(y, warn=True)\n"
     ]
    },
    {
     "ename": "ValueError",
     "evalue": "Unknown label type: 'continuous'",
     "output_type": "error",
     "traceback": [
      "\u001b[0;31m---------------------------------------------------------------------------\u001b[0m",
      "\u001b[0;31mValueError\u001b[0m                                Traceback (most recent call last)",
      "\u001b[0;32m<ipython-input-55-406ab39bb295>\u001b[0m in \u001b[0;36m<module>\u001b[0;34m()\u001b[0m\n\u001b[1;32m     28\u001b[0m     \u001b[0;32mreturn\u001b[0m \u001b[0mresults\u001b[0m\u001b[0;34m\u001b[0m\u001b[0m\n\u001b[1;32m     29\u001b[0m \u001b[0;34m\u001b[0m\u001b[0m\n\u001b[0;32m---> 30\u001b[0;31m \u001b[0mcv_logistic_regression\u001b[0m\u001b[0;34m(\u001b[0m\u001b[0mpenalties\u001b[0m\u001b[0;34m,\u001b[0m \u001b[0mc_values\u001b[0m\u001b[0;34m,\u001b[0m \u001b[0mX_train\u001b[0m\u001b[0;34m,\u001b[0m \u001b[0my_train\u001b[0m\u001b[0;34m)\u001b[0m\u001b[0;34m\u001b[0m\u001b[0m\n\u001b[0m",
      "\u001b[0;32m<ipython-input-55-406ab39bb295>\u001b[0m in \u001b[0;36mcv_logistic_regression\u001b[0;34m(penalties, c_values, X_train, y_train)\u001b[0m\n\u001b[1;32m     21\u001b[0m             \u001b[0;32mfor\u001b[0m \u001b[0mp\u001b[0m \u001b[0;32min\u001b[0m \u001b[0mpenalties\u001b[0m\u001b[0;34m:\u001b[0m\u001b[0;34m\u001b[0m\u001b[0m\n\u001b[1;32m     22\u001b[0m                 \u001b[0mlinreg\u001b[0m \u001b[0;34m=\u001b[0m \u001b[0mLogisticRegression\u001b[0m\u001b[0;34m(\u001b[0m\u001b[0mpenalty\u001b[0m\u001b[0;34m=\u001b[0m\u001b[0mp\u001b[0m\u001b[0;34m,\u001b[0m \u001b[0mC\u001b[0m\u001b[0;34m=\u001b[0m\u001b[0mc\u001b[0m\u001b[0;34m)\u001b[0m\u001b[0;34m\u001b[0m\u001b[0m\n\u001b[0;32m---> 23\u001b[0;31m                 \u001b[0mlinreg\u001b[0m\u001b[0;34m.\u001b[0m\u001b[0mfit\u001b[0m\u001b[0;34m(\u001b[0m\u001b[0mx_split_train\u001b[0m\u001b[0;34m,\u001b[0m \u001b[0my_split_train\u001b[0m\u001b[0;34m)\u001b[0m\u001b[0;34m\u001b[0m\u001b[0m\n\u001b[0m\u001b[1;32m     24\u001b[0m                 \u001b[0my_pred\u001b[0m \u001b[0;34m=\u001b[0m \u001b[0mlinreg\u001b[0m\u001b[0;34m.\u001b[0m\u001b[0mpredict\u001b[0m\u001b[0;34m(\u001b[0m\u001b[0mx_split_test\u001b[0m\u001b[0;34m)\u001b[0m\u001b[0;34m\u001b[0m\u001b[0m\n\u001b[1;32m     25\u001b[0m                 \u001b[0;31m#model_key = (p, c) # this will be a longer tuple for things with more parameters\u001b[0m\u001b[0;34m\u001b[0m\u001b[0;34m\u001b[0m\u001b[0m\n",
      "\u001b[0;32m/usr/local/lib/python3.6/site-packages/sklearn/linear_model/logistic.py\u001b[0m in \u001b[0;36mfit\u001b[0;34m(self, X, y, sample_weight)\u001b[0m\n\u001b[1;32m   1215\u001b[0m         X, y = check_X_y(X, y, accept_sparse='csr', dtype=_dtype,\n\u001b[1;32m   1216\u001b[0m                          order=\"C\")\n\u001b[0;32m-> 1217\u001b[0;31m         \u001b[0mcheck_classification_targets\u001b[0m\u001b[0;34m(\u001b[0m\u001b[0my\u001b[0m\u001b[0;34m)\u001b[0m\u001b[0;34m\u001b[0m\u001b[0m\n\u001b[0m\u001b[1;32m   1218\u001b[0m         \u001b[0mself\u001b[0m\u001b[0;34m.\u001b[0m\u001b[0mclasses_\u001b[0m \u001b[0;34m=\u001b[0m \u001b[0mnp\u001b[0m\u001b[0;34m.\u001b[0m\u001b[0munique\u001b[0m\u001b[0;34m(\u001b[0m\u001b[0my\u001b[0m\u001b[0;34m)\u001b[0m\u001b[0;34m\u001b[0m\u001b[0m\n\u001b[1;32m   1219\u001b[0m         \u001b[0mn_samples\u001b[0m\u001b[0;34m,\u001b[0m \u001b[0mn_features\u001b[0m \u001b[0;34m=\u001b[0m \u001b[0mX\u001b[0m\u001b[0;34m.\u001b[0m\u001b[0mshape\u001b[0m\u001b[0;34m\u001b[0m\u001b[0m\n",
      "\u001b[0;32m/usr/local/lib/python3.6/site-packages/sklearn/utils/multiclass.py\u001b[0m in \u001b[0;36mcheck_classification_targets\u001b[0;34m(y)\u001b[0m\n\u001b[1;32m    170\u001b[0m     if y_type not in ['binary', 'multiclass', 'multiclass-multioutput',\n\u001b[1;32m    171\u001b[0m                       'multilabel-indicator', 'multilabel-sequences']:\n\u001b[0;32m--> 172\u001b[0;31m         \u001b[0;32mraise\u001b[0m \u001b[0mValueError\u001b[0m\u001b[0;34m(\u001b[0m\u001b[0;34m\"Unknown label type: %r\"\u001b[0m \u001b[0;34m%\u001b[0m \u001b[0my_type\u001b[0m\u001b[0;34m)\u001b[0m\u001b[0;34m\u001b[0m\u001b[0m\n\u001b[0m\u001b[1;32m    173\u001b[0m \u001b[0;34m\u001b[0m\u001b[0m\n\u001b[1;32m    174\u001b[0m \u001b[0;34m\u001b[0m\u001b[0m\n",
      "\u001b[0;31mValueError\u001b[0m: Unknown label type: 'continuous'"
     ]
    }
   ],
   "source": [
    "from sklearn.linear_model import LogisticRegression\n",
    "from sklearn.model_selection import KFold\n",
    "\n",
    "N = 1000\n",
    "X = np.random.random((N, 10))\n",
    "Y = np.random.random((N, 1))\n",
    "X_train, X_test, y_train, y_test = train_test_split(X, Y, test_size=0.2)\n",
    "c_values = [10**(-2),10**(-1),1,10,10**2] # pick the C values\n",
    "penalties = ['l1', 'l2']\n",
    "\n",
    "# YOUR CODE\n",
    "def cv_logistic_regression(penalties, c_values, X_train, y_train):\n",
    "    kf = KFold(n_splits=5)\n",
    "    \n",
    "    results = {} # dict of model params -> model performance over the KFold cross validation\n",
    "    for fold_num, (train_idx, test_idx) in enumerate(kf.split(X_train)):\n",
    "        x_split_train, x_split_test = X_train[train_idx], X_train[test_idx]\n",
    "        y_split_train, y_split_test = y_train[train_idx], y_train[test_idx]\n",
    "    \n",
    "        for c in c_values:\n",
    "            for p in penalties:\n",
    "                linreg = LogisticRegression(penalty=p, C=c)\n",
    "                linreg.fit(x_split_train, y_split_train)\n",
    "                y_pred = linreg.predict(x_split_test)\n",
    "                #model_key = (p, c) # this will be a longer tuple for things with more parameters\n",
    "                results[p+str(c)] =  results.get(p+str(c), 0) + mean_squared_error(y_pred, y_split_test) / splits\n",
    "    \n",
    "    return results\n",
    "\n",
    "cv_logistic_regression(penalties, c_values, X_train, y_train)"
   ]
  },
  {
   "cell_type": "code",
   "execution_count": 56,
   "metadata": {},
   "outputs": [
    {
     "ename": "AttributeError",
     "evalue": "'numpy.ndarray' object has no attribute 'int'",
     "output_type": "error",
     "traceback": [
      "\u001b[0;31m---------------------------------------------------------------------------\u001b[0m",
      "\u001b[0;31mAttributeError\u001b[0m                            Traceback (most recent call last)",
      "\u001b[0;32m<ipython-input-56-5a8cf5d34595>\u001b[0m in \u001b[0;36m<module>\u001b[0;34m()\u001b[0m\n\u001b[1;32m      1\u001b[0m \u001b[0mN\u001b[0m \u001b[0;34m=\u001b[0m \u001b[0;36m1000\u001b[0m\u001b[0;34m\u001b[0m\u001b[0m\n\u001b[1;32m      2\u001b[0m \u001b[0mX\u001b[0m \u001b[0;34m=\u001b[0m \u001b[0mnp\u001b[0m\u001b[0;34m.\u001b[0m\u001b[0mrandom\u001b[0m\u001b[0;34m.\u001b[0m\u001b[0mrandom\u001b[0m\u001b[0;34m(\u001b[0m\u001b[0;34m(\u001b[0m\u001b[0mN\u001b[0m\u001b[0;34m,\u001b[0m \u001b[0;36m10\u001b[0m\u001b[0;34m)\u001b[0m\u001b[0;34m)\u001b[0m\u001b[0;34m\u001b[0m\u001b[0m\n\u001b[0;32m----> 3\u001b[0;31m \u001b[0mY\u001b[0m \u001b[0;34m=\u001b[0m \u001b[0mnp\u001b[0m\u001b[0;34m.\u001b[0m\u001b[0mrandom\u001b[0m\u001b[0;34m.\u001b[0m\u001b[0mrandom\u001b[0m\u001b[0;34m(\u001b[0m\u001b[0mN\u001b[0m\u001b[0;34m)\u001b[0m\u001b[0;34m.\u001b[0m\u001b[0mint\u001b[0m\u001b[0;34m(\u001b[0m\u001b[0;34m)\u001b[0m\u001b[0;34m\u001b[0m\u001b[0m\n\u001b[0m",
      "\u001b[0;31mAttributeError\u001b[0m: 'numpy.ndarray' object has no attribute 'int'"
     ]
    }
   ],
   "source": [
    "N = 1000\n",
    "X = np.random.random((N, 10))\n",
    "Y = np.random.randint(N).int()"
   ]
  },
  {
   "cell_type": "code",
   "execution_count": 51,
   "metadata": {},
   "outputs": [
    {
     "data": {
      "text/plain": [
       "array([3.31157251e-01, 7.86634613e-01, 7.09696616e-01, 2.96393092e-01,\n",
       "       2.81137384e-01, 5.26554592e-01, 3.23461929e-01, 7.00998531e-01,\n",
       "       5.24831548e-01, 6.25250564e-01, 3.80546744e-03, 3.74888155e-01,\n",
       "       9.95712653e-01, 3.87475085e-02, 2.80350830e-01, 8.25977415e-01,\n",
       "       7.51925888e-01, 4.79470329e-01, 9.95826192e-01, 4.81948391e-01,\n",
       "       2.21844300e-01, 9.18556510e-02, 5.15924297e-01, 1.45443452e-01,\n",
       "       7.67086663e-01, 1.98877550e-01, 4.50621921e-02, 9.81931658e-01,\n",
       "       5.85727527e-01, 9.85489698e-06, 6.12400018e-01, 4.94704712e-02,\n",
       "       3.01919506e-01, 4.78377407e-02, 9.95710007e-01, 2.59811271e-01,\n",
       "       2.46411582e-01, 6.85443513e-02, 8.29425287e-01, 4.66439084e-01,\n",
       "       9.55105202e-01, 5.72827456e-01, 9.52982606e-01, 5.23316504e-01,\n",
       "       2.49685259e-01, 4.04521552e-02, 1.80983737e-01, 3.17376713e-01,\n",
       "       8.60551043e-02, 1.63014174e-01, 1.33440584e-01, 7.35803699e-01,\n",
       "       5.53807175e-01, 1.38694522e-02, 1.97518090e-01, 8.06230921e-01,\n",
       "       6.37118566e-01, 2.33777181e-01, 1.55324525e-01, 3.81516780e-02,\n",
       "       5.89947635e-01, 1.85506185e-01, 4.38305833e-01, 9.69549670e-01,\n",
       "       5.97063339e-01, 9.14163910e-02, 2.38077024e-01, 3.46117039e-02,\n",
       "       6.45297193e-01, 3.33385496e-01, 3.75379181e-01, 4.87480522e-01,\n",
       "       8.05793784e-02, 4.71440332e-02, 9.60391058e-01, 4.03579918e-01,\n",
       "       1.21034413e-01, 3.31392571e-01, 9.64833115e-01, 8.28106187e-02,\n",
       "       8.04518036e-01, 6.47695242e-01, 2.84837208e-01, 1.81251069e-01,\n",
       "       5.77315089e-01, 9.90392819e-01, 8.50827526e-01, 5.47411162e-01,\n",
       "       9.54211971e-01, 6.61709081e-01, 6.38537262e-01, 9.71105201e-01,\n",
       "       9.69956095e-01, 4.18846636e-01, 6.56265542e-01, 2.34514938e-01,\n",
       "       6.71892324e-01, 7.54676195e-01, 7.44341835e-01, 7.43365442e-01,\n",
       "       5.78580146e-01, 7.77507288e-01, 1.84581027e-01, 7.53624541e-01,\n",
       "       2.68344293e-01, 9.05163087e-01, 3.06433321e-01, 9.43577615e-01,\n",
       "       3.09227720e-01, 7.55155941e-01, 4.15792788e-01, 7.93606351e-01,\n",
       "       3.81234342e-01, 1.64699203e-01, 9.10265194e-01, 2.56420722e-01,\n",
       "       1.98750370e-01, 9.06190728e-01, 3.04950152e-02, 6.48656861e-01,\n",
       "       6.30604485e-01, 6.00993856e-01, 2.48236774e-02, 4.13863645e-02,\n",
       "       1.68002954e-01, 9.05279175e-01, 6.50344008e-01, 2.21197485e-01,\n",
       "       2.36356327e-01, 3.81445427e-01, 5.16552165e-01, 8.31543328e-01,\n",
       "       1.26992522e-01, 7.58047165e-01, 1.39282431e-01, 7.93151166e-01,\n",
       "       4.60528208e-01, 7.00197175e-02, 3.89983812e-01, 5.86329055e-01,\n",
       "       8.48845837e-01, 4.98544671e-02, 9.10875803e-01, 3.63806152e-02,\n",
       "       2.47430421e-01, 2.92250732e-02, 4.46567010e-01, 4.85231493e-01,\n",
       "       4.92308661e-02, 6.10279491e-02, 7.30819227e-01, 8.76414280e-01,\n",
       "       3.25497517e-01, 9.52609942e-01, 3.01317012e-01, 2.64598383e-01,\n",
       "       5.50395536e-01, 2.11446007e-01, 9.19954363e-01, 3.57154485e-01,\n",
       "       1.48148581e-01, 1.22952405e-01, 7.58826641e-01, 5.95971387e-01,\n",
       "       1.82022251e-01, 1.81487197e-01, 6.24209928e-01, 1.79203614e-01,\n",
       "       3.51545975e-02, 8.05990765e-01, 8.37588950e-01, 6.07854852e-01,\n",
       "       7.63933738e-01, 8.45498371e-01, 9.81976913e-01, 5.11784863e-01,\n",
       "       7.37443158e-01, 4.85792528e-01, 4.55906749e-01, 1.50928253e-01,\n",
       "       8.94829343e-01, 2.61262001e-02, 5.68223409e-02, 6.39089301e-01,\n",
       "       1.70846037e-01, 6.06961956e-01, 7.91904070e-01, 4.98607086e-01,\n",
       "       1.04989148e-01, 4.88376628e-01, 9.93143684e-01, 6.97605400e-01,\n",
       "       3.78961353e-01, 2.22245165e-02, 3.36485865e-01, 7.99275784e-01,\n",
       "       2.15239707e-01, 2.86583542e-01, 5.79914002e-01, 4.58423806e-01,\n",
       "       8.78824156e-01, 1.36769971e-01, 4.68809267e-01, 4.24617555e-01,\n",
       "       8.60772063e-01, 9.04571194e-01, 4.22833013e-02, 6.67517164e-01,\n",
       "       9.56193647e-01, 8.11812329e-01, 2.06192657e-01, 9.52789703e-01,\n",
       "       2.63716462e-01, 6.77127315e-01, 2.74799885e-01, 5.29499783e-02,\n",
       "       5.72235332e-01, 3.71756136e-02, 7.93411877e-01, 4.29402773e-01,\n",
       "       7.40745888e-01, 4.19938681e-01, 4.16374937e-01, 4.39960780e-01,\n",
       "       3.43171133e-01, 9.22652635e-01, 1.17468087e-01, 5.00073421e-01,\n",
       "       2.60373666e-01, 6.49213057e-01, 3.06657740e-01, 5.66608370e-01,\n",
       "       3.66585792e-01, 2.34335297e-01, 2.12289415e-02, 6.94419343e-01,\n",
       "       4.31041589e-01, 4.93024712e-02, 8.10754390e-01, 7.88601060e-01,\n",
       "       8.28762858e-01, 2.18848306e-01, 5.89169270e-01, 6.28545729e-01,\n",
       "       6.08841659e-01, 7.34695839e-01, 3.41874010e-01, 2.20166983e-02,\n",
       "       5.41824156e-01, 7.13518086e-01, 7.93923959e-01, 8.85265478e-01,\n",
       "       6.56422763e-01, 2.14095593e-01, 5.02707588e-01, 2.23905309e-01,\n",
       "       9.83711039e-01, 4.06089760e-01, 7.36854070e-01, 7.02967189e-01,\n",
       "       7.37760878e-01, 5.43226338e-01, 4.55698831e-01, 1.85501115e-01,\n",
       "       9.94456211e-01, 6.83219375e-02, 1.43930969e-01, 5.14237760e-01,\n",
       "       3.64309081e-01, 8.84887983e-01, 3.03310988e-01, 6.84861219e-01,\n",
       "       5.09878453e-01, 6.22477478e-01, 1.13796391e-01, 5.44507298e-01,\n",
       "       1.57721758e-01, 2.49146276e-01, 8.25324892e-01, 4.99896268e-01,\n",
       "       4.40936419e-01, 3.17588432e-01, 9.05328841e-01, 4.62694177e-01,\n",
       "       2.01957876e-01, 9.38796820e-01, 3.47573798e-02, 2.98119347e-01,\n",
       "       5.52457460e-01, 9.07460748e-01, 4.79444324e-02, 9.03471447e-02,\n",
       "       3.39502702e-01, 5.87757806e-01, 5.33114281e-01, 1.23529387e-01,\n",
       "       4.58722140e-01, 7.48265243e-01, 6.80139866e-01, 4.14995731e-01,\n",
       "       1.04014029e-01, 4.00129199e-01, 2.43502562e-01, 6.39868523e-01,\n",
       "       5.61188310e-01, 2.87654412e-02, 4.73251815e-01, 3.53259450e-03,\n",
       "       2.52102527e-01, 7.29192969e-01, 5.31643624e-02, 2.45327872e-01,\n",
       "       5.81240982e-01, 8.15574572e-01, 7.57792644e-01, 1.80237803e-01,\n",
       "       7.50034355e-01, 4.83084641e-01, 4.41726753e-01, 4.62067115e-01,\n",
       "       2.82749129e-02, 8.36312071e-01, 6.34205792e-01, 2.57459475e-01,\n",
       "       7.39237309e-01, 3.53032250e-01, 7.87825461e-01, 4.02224227e-01,\n",
       "       1.93260413e-01, 4.05396167e-01, 4.38157214e-02, 8.09618972e-01,\n",
       "       5.14079429e-01, 2.73320652e-01, 1.31193276e-01, 2.56787548e-01,\n",
       "       2.02883417e-01, 5.80269223e-01, 7.00880041e-01, 2.14325099e-01,\n",
       "       4.45076653e-01, 2.71637641e-01, 1.92430954e-01, 1.57592775e-01,\n",
       "       4.82388118e-01, 1.95246917e-01, 4.65746557e-01, 5.71561753e-02,\n",
       "       3.74804159e-01, 6.36245677e-02, 3.56749948e-01, 3.21369067e-01,\n",
       "       7.46261349e-01, 1.60743492e-03, 9.58641025e-01, 8.07126755e-01,\n",
       "       8.40978220e-01, 9.39455249e-01, 8.99459408e-01, 7.53594866e-01,\n",
       "       9.63067370e-01, 6.29642009e-01, 5.82133805e-01, 3.95125132e-01,\n",
       "       8.75219912e-01, 7.15349527e-01, 4.55599738e-01, 3.80724847e-01,\n",
       "       1.94301968e-01, 9.39108448e-01, 3.55362376e-01, 6.64651344e-01,\n",
       "       9.20949957e-01, 8.68853882e-02, 8.49461076e-01, 1.90665012e-01,\n",
       "       8.43808045e-01, 6.96272123e-01, 7.46826311e-01, 8.00407257e-01,\n",
       "       5.81088307e-01, 5.97735061e-01, 7.32597775e-01, 2.54025990e-01,\n",
       "       4.31715191e-01, 7.72485819e-01, 2.97484641e-01, 7.82561120e-01,\n",
       "       1.07257824e-01, 7.31629532e-02, 3.89368149e-01, 6.76009934e-01,\n",
       "       1.87695262e-01, 5.35401046e-01, 5.11980323e-01, 2.91409440e-01,\n",
       "       4.82702870e-01, 5.51544951e-01, 1.21359114e-01, 9.27511165e-01,\n",
       "       6.66788728e-01, 5.65861373e-01, 8.84903980e-01, 2.07967348e-01,\n",
       "       7.01167990e-02, 4.38508143e-01, 3.61873564e-01, 8.10299882e-02,\n",
       "       4.41565494e-01, 7.66289484e-01, 6.92093522e-01, 3.18998250e-01,\n",
       "       3.25971276e-01, 6.91268540e-01, 5.80906176e-01, 4.57856775e-01,\n",
       "       8.62600499e-01, 9.83544825e-01, 1.84887259e-01, 2.69939375e-01,\n",
       "       7.11540050e-01, 7.03166693e-01, 6.41284119e-01, 5.95105932e-01,\n",
       "       6.63787866e-01, 1.45811972e-01, 6.71263446e-01, 2.14561410e-01,\n",
       "       1.25110279e-01, 3.03285720e-02, 1.84917731e-01, 7.52761578e-01,\n",
       "       7.78177810e-01, 4.05519632e-01, 4.19581130e-01, 1.51552117e-01,\n",
       "       1.23934465e-02, 4.72446145e-01, 5.11127179e-01, 6.28819801e-01,\n",
       "       7.20740821e-01, 8.67147728e-01, 5.31615792e-01, 9.86315554e-01,\n",
       "       2.24448278e-01, 3.40488899e-01, 3.25778044e-01, 9.92764499e-01,\n",
       "       1.66141207e-01, 1.72829863e-01, 3.95199485e-02, 2.47688451e-01,\n",
       "       1.78416058e-01, 8.68853471e-01, 6.08390134e-01, 7.46798344e-01,\n",
       "       6.81760209e-01, 2.73234135e-01, 5.93422066e-01, 1.67990719e-01,\n",
       "       2.02556916e-01, 3.20622381e-01, 6.14565685e-01, 1.88838678e-01,\n",
       "       8.13485883e-01, 8.54817449e-01, 6.55754889e-01, 9.94508586e-01,\n",
       "       5.75523011e-02, 7.61761804e-01, 6.75889911e-01, 5.86511301e-03,\n",
       "       1.82277984e-02, 9.86414296e-01, 1.22975070e-01, 9.12375887e-01,\n",
       "       3.68740841e-01, 7.64292062e-01, 2.71666624e-01, 9.75924126e-01,\n",
       "       1.13532965e-01, 7.81880022e-01, 4.05821947e-01, 7.37494823e-02,\n",
       "       2.16157105e-01, 6.20071692e-02, 2.49735538e-01, 1.26618235e-01,\n",
       "       9.67556558e-01, 6.96275541e-01, 3.64772058e-01, 2.66000896e-01,\n",
       "       1.41867801e-01, 6.01710093e-01, 1.52983825e-01, 4.66356964e-01,\n",
       "       5.96562236e-01, 6.76489588e-01, 3.93130784e-01, 5.79992845e-01,\n",
       "       7.28719941e-01, 7.98844392e-01, 9.03269293e-01, 4.92928087e-01,\n",
       "       1.97712643e-01, 4.34243263e-01, 8.48317665e-01, 5.01046414e-02,\n",
       "       5.38998560e-01, 6.61883034e-01, 4.15620222e-03, 9.87072333e-01,\n",
       "       5.23797843e-01, 9.16089880e-02, 5.31075353e-01, 8.30790895e-01,\n",
       "       7.59186958e-01, 9.63188455e-01, 6.76771844e-01, 6.03347882e-02,\n",
       "       2.31182394e-01, 8.22610410e-01, 7.74091958e-01, 9.85381441e-01,\n",
       "       4.64183620e-01, 3.94908727e-01, 8.17474611e-01, 9.35652789e-01,\n",
       "       5.29023750e-01, 4.62282467e-01, 4.63712420e-02, 4.10683217e-01,\n",
       "       3.44466328e-01, 9.49019070e-01, 1.19882358e-02, 2.33203338e-01,\n",
       "       1.52012169e-02, 9.41601899e-01, 2.03724522e-01, 8.57333732e-01,\n",
       "       3.18375896e-01, 3.40695509e-01, 1.18597401e-01, 5.66887379e-01,\n",
       "       1.31123837e-01, 6.33202543e-01, 7.88685094e-01, 8.55258235e-02,\n",
       "       7.15357261e-03, 3.23173214e-01, 4.01735374e-01, 3.15784151e-01,\n",
       "       7.71945466e-01, 3.67413190e-01, 3.26999461e-01, 6.22573571e-01,\n",
       "       5.89187620e-01, 8.69374402e-03, 7.35850044e-01, 7.37058550e-01,\n",
       "       3.96461171e-02, 2.81104327e-01, 7.49863864e-02, 2.17909559e-01,\n",
       "       2.78616586e-01, 7.29033537e-01, 2.46144812e-01, 1.33998369e-01,\n",
       "       4.08990769e-01, 7.87735324e-01, 9.12690383e-01, 2.02852006e-01,\n",
       "       3.29673699e-01, 1.86693880e-01, 7.37250307e-01, 1.13835598e-01,\n",
       "       9.76315825e-01, 7.31750772e-01, 3.81930579e-01, 4.76385281e-01,\n",
       "       4.44085090e-01, 1.67866565e-01, 8.45759065e-01, 6.95362564e-01,\n",
       "       6.38819389e-01, 5.01818648e-01, 4.31558769e-01, 7.61153564e-01,\n",
       "       7.29179448e-01, 7.89606343e-01, 9.32975444e-01, 1.91107436e-01,\n",
       "       1.93716646e-01, 2.48722649e-01, 8.21529641e-01, 1.80220125e-01,\n",
       "       8.67480575e-01, 5.73408322e-01, 7.65088072e-01, 1.52235585e-01,\n",
       "       4.70802674e-02, 2.16351084e-01, 7.82847768e-01, 5.48087165e-01,\n",
       "       9.77071470e-01, 3.53009750e-01, 1.43439934e-02, 8.31395436e-01,\n",
       "       5.26280556e-01, 9.33312905e-01, 6.93455110e-01, 1.99961807e-01,\n",
       "       2.28586012e-01, 5.34782815e-01, 6.11238768e-01, 2.34912703e-01,\n",
       "       7.24292352e-01, 9.70534913e-01, 4.70915158e-01, 7.62228241e-01,\n",
       "       7.16525711e-01, 4.84067481e-01, 2.88962012e-01, 5.01177469e-01,\n",
       "       1.85486819e-01, 4.51561331e-01, 9.73415890e-01, 2.28381826e-01,\n",
       "       1.70157176e-01, 4.49060178e-02, 5.92491847e-01, 7.61190408e-01,\n",
       "       2.39784485e-01, 2.15194611e-01, 4.25805150e-01, 1.85671658e-01,\n",
       "       5.84191877e-01, 8.58221010e-01, 9.96996424e-01, 8.46908248e-01,\n",
       "       4.30434799e-01, 6.05866763e-01, 2.55983536e-01, 3.65316694e-01,\n",
       "       7.37422784e-01, 8.46467414e-01, 8.29714220e-01, 1.05951609e-01,\n",
       "       9.83083072e-01, 3.68501209e-01, 8.73538499e-02, 3.37169206e-01,\n",
       "       8.74514360e-01, 7.94683615e-01, 2.75545744e-01, 8.42918266e-01,\n",
       "       3.03037596e-01, 8.71104192e-03, 2.43860905e-01, 5.24624737e-01,\n",
       "       9.70895112e-01, 7.04071377e-01, 6.80829680e-01, 5.67163616e-01,\n",
       "       9.10273875e-02, 6.63510754e-01, 1.84161882e-01, 7.94680205e-01,\n",
       "       6.08864626e-02, 9.14555605e-01, 2.40965485e-02, 6.28511578e-01,\n",
       "       4.38324558e-01, 4.38436942e-01, 4.03550489e-01, 2.12275611e-01,\n",
       "       1.60060377e-01, 5.64211203e-01, 3.59895587e-01, 5.33578180e-01,\n",
       "       4.63973247e-01, 2.79073101e-01, 5.50006022e-01, 9.41164758e-01,\n",
       "       7.99739904e-01, 1.23073617e-01, 3.50553675e-02, 7.73822543e-01,\n",
       "       5.88167777e-02, 5.73306224e-02, 4.06316771e-01, 6.82334055e-02,\n",
       "       8.93148901e-01, 1.70830394e-01, 3.87463164e-01, 3.50990881e-01,\n",
       "       1.24379586e-01, 8.71037983e-01, 3.81720157e-01, 1.02025822e-01,\n",
       "       7.94669923e-01, 2.23321794e-01, 6.52507522e-01, 2.65933056e-01,\n",
       "       4.38455198e-01, 5.04395767e-01, 1.34114864e-01, 7.34282070e-01,\n",
       "       6.76575686e-01, 7.62674701e-02, 6.82083591e-01, 6.60106265e-01,\n",
       "       5.28669746e-01, 8.80459936e-02, 7.07808733e-01, 6.58581838e-01,\n",
       "       8.81014178e-02, 8.82554746e-01, 8.86245833e-01, 9.09482283e-01,\n",
       "       5.54744122e-01, 9.02725947e-01, 7.31174982e-01, 3.56881679e-01,\n",
       "       5.52387322e-01, 9.09895078e-01, 5.46563034e-01, 2.02926983e-01,\n",
       "       9.99307352e-02, 7.21831678e-01, 7.58746845e-01, 7.81841827e-01,\n",
       "       8.95943060e-01, 4.19207061e-01, 4.24306619e-01, 7.66012777e-01,\n",
       "       4.96779199e-01, 8.62663736e-01, 8.29309533e-01, 1.49935062e-01,\n",
       "       1.90108709e-01, 3.64498866e-01, 8.32248775e-04, 3.76482867e-01,\n",
       "       3.84090883e-01, 7.96532069e-01, 6.69875977e-02, 4.77921377e-01,\n",
       "       1.92107898e-01, 6.54126626e-02, 8.55749395e-01, 2.41677972e-01,\n",
       "       5.02720881e-02, 1.15575363e-01, 2.14753360e-01, 6.52315866e-01,\n",
       "       5.22297143e-01, 8.08739640e-01, 1.40096044e-02, 2.60928510e-01,\n",
       "       4.88360784e-01, 3.98844044e-02, 3.77671953e-01, 1.65833938e-01,\n",
       "       3.05971954e-01, 6.91806428e-01, 2.64970404e-02, 2.68908326e-01,\n",
       "       9.14793218e-01, 5.85404741e-01, 6.44215707e-01, 9.51441760e-01,\n",
       "       4.02760428e-02, 6.53968711e-01, 4.45143960e-01, 3.99706225e-01,\n",
       "       1.86327681e-01, 4.07388833e-01, 2.90062888e-01, 1.60278167e-01,\n",
       "       9.94052342e-01, 5.02514700e-01, 9.34691061e-01, 6.32064456e-01,\n",
       "       5.71182970e-01, 5.47911540e-01, 8.33956446e-01, 8.88257956e-01,\n",
       "       7.13981143e-01, 2.23323854e-01, 6.59363093e-01, 2.06540629e-01,\n",
       "       3.34752135e-01, 4.23973210e-01, 2.20676504e-02, 5.50619934e-01,\n",
       "       4.66160664e-01, 7.90424024e-01, 4.39678264e-01, 8.47753471e-01,\n",
       "       5.06003487e-01, 3.82279915e-01, 4.79740895e-01, 3.40772121e-02,\n",
       "       5.30316409e-01, 3.20462949e-01, 8.91095113e-01, 3.44846825e-01,\n",
       "       7.47894399e-01, 9.08843795e-01, 2.60029312e-01, 9.89579709e-01,\n",
       "       6.93364799e-02, 4.79579974e-01, 6.94052712e-01, 7.78170530e-02,\n",
       "       1.48207133e-01, 7.13118844e-02, 2.69759149e-01, 6.48604011e-01,\n",
       "       9.15547919e-01, 4.67960290e-01, 9.92078560e-01, 3.52110389e-01,\n",
       "       9.87047227e-01, 6.73106303e-01, 6.90619669e-01, 8.99664958e-01,\n",
       "       8.16890869e-01, 3.45426006e-01, 9.21268011e-01, 1.26670028e-01,\n",
       "       3.37405582e-01, 4.20961359e-02, 6.18611644e-02, 3.81688768e-01,\n",
       "       5.65099174e-01, 8.85782012e-01, 7.66405045e-01, 6.07455484e-01,\n",
       "       6.64119957e-01, 4.92607543e-01, 6.08253886e-01, 2.67694498e-01,\n",
       "       4.69411232e-01, 6.62020651e-01, 7.66429663e-01, 1.19129476e-01,\n",
       "       9.55148476e-01, 6.20984287e-01, 3.39922613e-01, 6.38805459e-01,\n",
       "       6.73161308e-01, 4.47279971e-01, 6.98566722e-02, 2.97424714e-01,\n",
       "       4.21454359e-01, 6.15219993e-01, 6.33366591e-01, 1.15699666e-01,\n",
       "       7.60679322e-02, 8.76862858e-01, 8.33941925e-01, 1.89194620e-01,\n",
       "       1.30184121e-01, 6.79180425e-01, 7.36610323e-01, 8.70369368e-01,\n",
       "       3.31022300e-01, 2.74454685e-01, 1.46333288e-01, 9.70304241e-01,\n",
       "       3.44193546e-02, 8.72821811e-01, 8.31491933e-01, 8.17706110e-02,\n",
       "       3.64912587e-01, 8.65282896e-01, 6.42626052e-01, 8.72984236e-01,\n",
       "       9.61740560e-01, 6.89308341e-01, 6.36616657e-01, 8.95874292e-01,\n",
       "       7.20233070e-01, 7.04245796e-01, 5.05200914e-01, 6.25234533e-02,\n",
       "       3.24175852e-02, 7.89865757e-01, 5.62633559e-02, 5.30455801e-01,\n",
       "       3.76814389e-01, 6.68628355e-01, 4.73799993e-03, 2.33804485e-01,\n",
       "       4.93168660e-01, 1.57578581e-01, 7.51305905e-03, 7.91184160e-02,\n",
       "       7.82197892e-01, 4.63641350e-02, 6.58105120e-01, 9.16633652e-01,\n",
       "       6.94144554e-01, 2.98101832e-01, 3.59397434e-01, 9.06173354e-01,\n",
       "       3.30255639e-01, 7.22718978e-01, 7.51317821e-01, 3.86346267e-01,\n",
       "       8.55358067e-01, 4.07034917e-01, 9.06320391e-02, 5.70106552e-01,\n",
       "       7.73577275e-03, 7.09320920e-01, 2.57730984e-02, 6.66032708e-01,\n",
       "       4.54934856e-01, 8.24276305e-01, 1.36567434e-01, 9.11870517e-01,\n",
       "       1.47369551e-01, 8.66074603e-02, 5.13098770e-01, 3.32871145e-01,\n",
       "       5.44973482e-01, 7.69439690e-01, 3.88600303e-01, 5.50900205e-01,\n",
       "       3.10302095e-01, 4.78643259e-01, 2.00118374e-01, 5.10384753e-01,\n",
       "       5.75911144e-01, 8.84336557e-01, 9.52017880e-01, 7.40626554e-02,\n",
       "       3.69799953e-01, 5.17638589e-01, 4.85582353e-01, 8.01119307e-01,\n",
       "       8.81895228e-01, 5.84302853e-01, 2.29839750e-01, 6.39858698e-01,\n",
       "       9.33125553e-01, 5.47808234e-02, 9.28756374e-01, 9.74524258e-01,\n",
       "       6.30072866e-01, 5.64932258e-01, 5.66668886e-01, 5.55569942e-01,\n",
       "       2.33494351e-03, 6.94916241e-01, 8.53235572e-01, 8.41867148e-01,\n",
       "       2.10091872e-02, 6.75789628e-01, 5.63513295e-01, 6.53876082e-01,\n",
       "       4.90523394e-01, 5.33807997e-01, 5.08206767e-01, 1.29867867e-01,\n",
       "       8.90309171e-01, 9.32871305e-01, 1.64975003e-01, 4.26964262e-01,\n",
       "       2.22699843e-01, 9.42486830e-03, 7.90503529e-01, 4.30303121e-01,\n",
       "       2.25126615e-01, 9.00336954e-01, 5.90465815e-01, 5.09454161e-01,\n",
       "       9.53116009e-01, 3.51531305e-01, 2.79192411e-01, 4.42052300e-01,\n",
       "       6.34338703e-01, 3.96961112e-02, 3.90527302e-01, 3.65496810e-01,\n",
       "       1.36983165e-01, 6.97211108e-01, 4.39701901e-01, 3.70285884e-01,\n",
       "       8.33540703e-01, 4.67979457e-01, 2.38167359e-01, 3.95100902e-01,\n",
       "       9.05705774e-01, 7.50230213e-01, 1.51377943e-02, 4.33340822e-01])"
      ]
     },
     "execution_count": 51,
     "metadata": {},
     "output_type": "execute_result"
    }
   ],
   "source": [
    "Y"
   ]
  },
  {
   "cell_type": "markdown",
   "metadata": {},
   "source": [
    "What combination of C value and penalty gives the highest cross validation score? Now create new models that uses the penalty and C-value that performed the best(according to whatever criteria you decided on). Fit this fresh model on the entire training set, and evaluate it on the test set."
   ]
  },
  {
   "cell_type": "code",
   "execution_count": null,
   "metadata": {
    "collapsed": true
   },
   "outputs": [],
   "source": []
  },
  {
   "cell_type": "markdown",
   "metadata": {},
   "source": [
    "To really see the difference between L1 and L2 regularization, we need to take a closer look at the models they produced. Plot a histogram of the weight values of LogisticRegression models for each C value. You can access these weight coefficients via the coef\\_ attribute in LogisticRegression. Do you notice anything interesting happening as the C value varies?"
   ]
  },
  {
   "cell_type": "code",
   "execution_count": null,
   "metadata": {
    "collapsed": true
   },
   "outputs": [],
   "source": []
  },
  {
   "cell_type": "markdown",
   "metadata": {},
   "source": [
    "You should see that the number of weight coefficients set to 0 in L1 regularized Logistic Regression increases with smaller C values. Revisit the minimization problems: you can think of the \"C\" parameter as a way of specifying the tradeoff between the L1/L2 penalty and the negative log likelihood of the model. A small value of \"C\" means that we are assigning greater weight to the L1/L2 penalty(equivalently downweighting the negative log likelihood).\n",
    "**L1 regularization induces sparse models** - this can be a very useful if you suspect your classification target variable can be explained by few features."
   ]
  },
  {
   "cell_type": "code",
   "execution_count": null,
   "metadata": {
    "collapsed": true
   },
   "outputs": [],
   "source": []
  },
  {
   "cell_type": "markdown",
   "metadata": {},
   "source": [
    "Recall that a LogisticRegression model has a predict_proba function, so we can change our\n",
    "classification threshold as we please. For tasks where a given class is extremely rare (IE: medical diagnoesis), you might have a very small number of positive examples(IE: patient has cancer). And you can artificially get a very high classification accuracy by simply predicting \"No Cancer\" for each patient. So instead of just using classification accuracy to see how good our model is, we'll consider precision and recall.\n",
    "\n",
    "As a reminder, precision is defined as:\n",
    "$$\\text{precision} = \\frac{TP}{TP + FP} $$\n",
    "and recall is defined as:\n",
    "$$ \\text{recall} = \\frac{TP}{TP + FN} $$\n",
    "\n",
    "Complete the following functions to compute precision and recall."
   ]
  },
  {
   "cell_type": "code",
   "execution_count": 8,
   "metadata": {
    "collapsed": true
   },
   "outputs": [],
   "source": [
    "def precision(y_pred, y_true):\n",
    "    # YOUR CODE\n",
    "    pass\n",
    "\n",
    "def recall(y_pred, y_true):\n",
    "    # YOUR CODE\n",
    "    pass"
   ]
  },
  {
   "cell_type": "markdown",
   "metadata": {},
   "source": [
    "LogisticRegression.predict uses 0.5 as the threshold for predicting True vs False. But a lower/higher probability threshold might give us better results. Try varying the classification probability thresholds and compute the precision and recall values and plot the [ROC curve](http://scikit-learn.org/stable/modules/generated/sklearn.metrics.roc_curve.html) for the LogisticRegression model that performed the best. Also compute the [AUC](http://scikit-learn.org/stable/modules/generated/sklearn.metrics.roc_auc_score.html#sklearn.metrics.roc_auc_score)."
   ]
  },
  {
   "cell_type": "code",
   "execution_count": null,
   "metadata": {
    "collapsed": true
   },
   "outputs": [],
   "source": []
  },
  {
   "cell_type": "markdown",
   "metadata": {},
   "source": [
    "# 3) Applying SVM"
   ]
  },
  {
   "cell_type": "markdown",
   "metadata": {},
   "source": [
    "Ref: http://scikit-learn.org/stable/modules/generated/sklearn.svm.SVC.html\n",
    "The SVM Classifier also takes quite a few parameters. We will be playing with following parameters:\n",
    "* C: same as above\n",
    "* kernel: string, it can be one of 'rbf', 'poly', 'linear'. More on that below:\n",
    "* gamma: parameter for the rbf kernel\n",
    "* degree: int, optional(only used if the kernel is 'poly'\n",
    "* coef0: float, optional(only used if the kernel is ‘poly’ or ‘sigmoid’)\n",
    "* probability: **set it to true** (this boolean flag enables/disables probability estimates)\n",
    "\n",
    "SVM tries to find the hyperplane that maximizes the \"margin\" between the two classes of points. The \"C\" parameter in [SVC](http://scikit-learn.org/stable/modules/generated/sklearn.svm.SVC.html#sklearn.svm.SVC) has the same role as the \"C\" parameter in LogisticRegression: it tells you how much to penalize the \"size\" of the weight vector. Note that SVC only allows for L2 regularization.\n",
    "\n",
    "## Choosing the kernel\n",
    "The kernels\n",
    "* linear: $\\langle x, x'\\rangle$.\n",
    "* polynomial: $(\\gamma \\langle x, x'\\rangle + r)^d$. $d$ is specified by keyword degree, $r$ by coef0.\n",
    "* rbf: $\\exp(-\\gamma \\|x-x'\\|^2)$.  $\\gamma$ is specified by keyword gamma, must be greater than 0.\n",
    "* sigmoid $(\\tanh(\\gamma \\langle x,x'\\rangle + r))$, where r is specified by coef0, and tanh is the [hyperbolic tangent](https://en.wikipedia.org/wiki/Hyperbolic_function#Definitions)\n",
    "\n",
    "You should think of this kernel function as playing a similar role to what the distance metric  did in the KNN classifier. Fundamentally, SVM is trying to find a hyperplane that maximize some **geometric distance** between points of different classes, and this distance is determined by the kernel. So here it seems like there are many many free parameters to play with. To save a bit of time, the most important kernels to try out are: the linear, rbf kernel(with a few different gamma values). You should think about what a high/low gamma value does to the RBF kernel.\n",
    "\n",
    "Write some code that computes the RBF kernel between two rows of the training set. Plot the rbf kernel between these two points with a few different values of gamma"
   ]
  },
  {
   "cell_type": "code",
   "execution_count": 15,
   "metadata": {},
   "outputs": [
    {
     "data": {
      "image/png": "[encoded data removed]",
      "text/plain": [
       "<matplotlib.figure.Figure at 0x7fa8da4fec10>"
      ]
     },
     "metadata": {},
     "output_type": "display_data"
    }
   ],
   "source": [
    "x1 = X_train[10] # any random training point\n",
    "x2 = X_train[20] # any random training point that is not the same as x1\n",
    "gammas = [10**i for i in np.arange(0, 1, 0.05)]\n",
    "\n",
    "def rbf(x1, x2, gamma):\n",
    "    pass\n",
    "\n",
    "rbf_vals = [rbf(x1, x2, g) for g in gammas]\n",
    "plt.plot(gammas, rbf_vals)\n",
    "plt.title('Gamma vs RBF')\n",
    "plt.xlabel('Gamma')\n",
    "plt.ylabel('RBF kernel value')\n",
    "plt.show()"
   ]
  },
  {
   "cell_type": "code",
   "execution_count": 12,
   "metadata": {},
   "outputs": [
    {
     "data": {
      "text/plain": [
       "array([-1. , -0.5,  0. ,  0.5])"
      ]
     },
     "execution_count": 12,
     "metadata": {},
     "output_type": "execute_result"
    }
   ],
   "source": [
    "np.arange(-1, 1, 0.5)"
   ]
  },
  {
   "cell_type": "markdown",
   "metadata": {},
   "source": [
    "As we did for LogisticRegression, write a function/some code to perform KFold crossvalidation on the training set to find the optimal C and kernel parameters. Repeat the cross validation after normalizing your continous features as well. Does normalization affect the SVM performance?"
   ]
  },
  {
   "cell_type": "code",
   "execution_count": 9,
   "metadata": {
    "collapsed": true
   },
   "outputs": [],
   "source": [
    "from sklearn.svm import SVC\n",
    "def cv_svm(**params):\n",
    "    pass"
   ]
  },
  {
   "cell_type": "markdown",
   "metadata": {},
   "source": [
    "The SVC classifier might take some time to train because it has to compute this square matrix of kernel values, which can be expensive for 30k points. If it's taking too long, you should subsample your data and try to fit the SVC model on this smaller subsample."
   ]
  },
  {
   "cell_type": "code",
   "execution_count": null,
   "metadata": {
    "collapsed": true
   },
   "outputs": [],
   "source": []
  },
  {
   "cell_type": "markdown",
   "metadata": {},
   "source": [
    "SVC also has a [predict_proba](http://scikit-learn.org/stable/modules/generated/sklearn.svm.SVC.html#sklearn.svm.SVC.predict_proba) function, so let's also plot an ROC curve for your best performing SVC model."
   ]
  },
  {
   "cell_type": "code",
   "execution_count": null,
   "metadata": {
    "collapsed": true
   },
   "outputs": [],
   "source": []
  },
  {
   "cell_type": "markdown",
   "metadata": {},
   "source": [
    "Do you think SVM or LogisticRegression is better suited for this classification task?"
   ]
  },
  {
   "cell_type": "markdown",
   "metadata": {},
   "source": [
    "## 4) Class Imbalance and Evaluation Metrics"
   ]
  },
  {
   "cell_type": "markdown",
   "metadata": {},
   "source": [
    "As noted in lecture, accuracy is not necessarily the best way to evaluate your classifier. This is especially true in situations where\n",
    "our classification dataset has class imbalance. In our current dataset, we have the following class proportions:"
   ]
  },
  {
   "cell_type": "markdown",
   "metadata": {},
   "source": [
    "Both LogisticRegression and SVC have a class_weight parameter that allows you to specify how much the model should prefer correctly classifying one class over another. Try specifying this parameter in your models and see how this affects the evaluation metrics you just tried above. "
   ]
  },
  {
   "cell_type": "code",
   "execution_count": null,
   "metadata": {
    "collapsed": true
   },
   "outputs": [],
   "source": []
  },
  {
   "cell_type": "markdown",
   "metadata": {},
   "source": [
    "## Additional Questions\n",
    "If you have the time, here are some additional things to try:\n",
    "* pull in other features from the ACS api like demographic information of a given zipcode. Does this improve the models performance? Do you think this is an ethical thing to do for deciding loan applications?\n",
    "* you've written a cv_logistic_regression function and a cv_svm function which probably look very similar. Try writing a cross validation function that takes a model(IE: LogisiticRegression, SVC, DecisionTreeClassifier) as a parameter as well so that we can just do cv_model(SVC, ....) and cv_model(LogisticRegression, ...)"
   ]
  },
  {
   "cell_type": "code",
   "execution_count": null,
   "metadata": {
    "collapsed": true
   },
   "outputs": [],
   "source": []
  }
 ],
 "metadata": {
  "kernelspec": {
   "display_name": "Python 3",
   "language": "python",
   "name": "python3"
  },
  "language_info": {
   "codemirror_mode": {
    "name": "ipython",
    "version": 3
   },
   "file_extension": ".py",
   "mimetype": "text/x-python",
   "name": "python",
   "nbconvert_exporter": "python",
   "pygments_lexer": "ipython3",
   "version": "3.6.3"
  }
 },
 "nbformat": 4,
 "nbformat_minor": 1
}
